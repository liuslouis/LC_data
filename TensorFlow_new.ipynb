{
 "cells": [
  {
   "cell_type": "code",
   "execution_count": 1,
   "metadata": {},
   "outputs": [],
   "source": [
    "import pandas\n",
    "df = pandas.read_csv(\"loan_data_cleaned.csv\", sep='\\t', encoding='utf-8', )"
   ]
  },
  {
   "cell_type": "code",
   "execution_count": 2,
   "metadata": {},
   "outputs": [],
   "source": [
    "for k in df.keys():\n",
    "    if df[k].max() > 1.5:\n",
    "        df[k] = (df[k] - df[k].mean())/df[k].std()"
   ]
  },
  {
   "cell_type": "code",
   "execution_count": 22,
   "metadata": {},
   "outputs": [
    {
     "name": "stdout",
     "output_type": "stream",
     "text": [
      "(170016, 44)\n",
      "(72865, 44)\n",
      "(170016, 2)\n",
      "(72865, 2)\n"
     ]
    }
   ],
   "source": [
    "from sklearn.cross_validation import train_test_split\n",
    "df['not_default'] = 1 - df['default']\n",
    "Xs = df.drop(columns=['default', 'not_default']).values\n",
    "Ys = df[['default', 'not_default']].values*[5,1]\n",
    "# Ys = df[['default']].values\n",
    "# Xs = (Xs - Xs.mean())/Xs.std(axis=0)  # Normalize\n",
    "X_train, X_test, Y_train, Y_test = train_test_split(Xs, Ys, test_size=0.3, random_state=0)\n",
    "print(X_train.shape)\n",
    "print(X_test.shape)\n",
    "print(Y_train.shape)\n",
    "print(Y_test.shape)\n",
    "# X_d = X_train[Y_train[:, 0] == 1]\n",
    "# X_n = X_train[Y_train[:, 1] == 1]\n",
    "# Y_d = Y_train[Y_train[:, 0] == 1]\n",
    "# Y_n = Y_train[Y_train[:, 1] == 1]\n",
    "# print(X_d.shape)\n",
    "# print(X_n.shape)\n",
    "# print(Y_d.shape)\n",
    "# print(Y_n.shape)"
   ]
  },
  {
   "cell_type": "code",
   "execution_count": 23,
   "metadata": {},
   "outputs": [],
   "source": [
    "!rm -r sess1/"
   ]
  },
  {
   "cell_type": "code",
   "execution_count": 24,
   "metadata": {},
   "outputs": [],
   "source": [
    "import tensorflow as tf\n",
    "tf.reset_default_graph()"
   ]
  },
  {
   "cell_type": "code",
   "execution_count": 25,
   "metadata": {},
   "outputs": [],
   "source": [
    "with tf.name_scope('input'):\n",
    "    x = tf.placeholder(tf.float64, [None, 44], name='x-input')\n",
    "    y = tf.placeholder(tf.int64, [None, 2], name='y-input')"
   ]
  },
  {
   "cell_type": "code",
   "execution_count": 26,
   "metadata": {},
   "outputs": [],
   "source": [
    "def weight_variable(shape):\n",
    "    \"\"\"Create a weight variable with appropriate initialization.\"\"\"\n",
    "    initial = tf.truncated_normal(shape, stddev=0.01, dtype=tf.float64)\n",
    "    return tf.Variable(initial)\n",
    "\n",
    "def bias_variable(shape):\n",
    "    \"\"\"Create a bias variable with appropriate initialization.\"\"\"\n",
    "    initial = tf.truncated_normal(shape, stddev=0.01, dtype=tf.float64)\n",
    "    return tf.Variable(initial)"
   ]
  },
  {
   "cell_type": "code",
   "execution_count": 27,
   "metadata": {},
   "outputs": [],
   "source": [
    "def variable_summaries(var):\n",
    "    \"\"\"Attach a lot of summaries to a Tensor (for TensorBoard visualization).\"\"\"\n",
    "    with tf.name_scope('summaries'):\n",
    "        mean = tf.reduce_mean(var)\n",
    "        tf.summary.scalar('mean', mean)\n",
    "        with tf.name_scope('stddev'):\n",
    "            stddev = tf.sqrt(tf.reduce_mean(tf.square(var - mean)))\n",
    "        tf.summary.scalar('stddev', stddev)\n",
    "        tf.summary.scalar('max', tf.reduce_max(var))\n",
    "        tf.summary.scalar('min', tf.reduce_min(var))\n",
    "        tf.summary.histogram('histogram', var)"
   ]
  },
  {
   "cell_type": "code",
   "execution_count": 28,
   "metadata": {},
   "outputs": [],
   "source": [
    "def nn_layer(input_tensor, input_dim, output_dim, layer_name, act=tf.nn.relu):\n",
    "    # Adding a name scope ensures logical grouping of the layers in the graph.\n",
    "    with tf.name_scope(layer_name):\n",
    "        # This Variable will hold the state of the weights for the layer\n",
    "        with tf.name_scope('weights'):\n",
    "            weights = weight_variable([input_dim, output_dim])\n",
    "            variable_summaries(weights)\n",
    "        with tf.name_scope('biases'):\n",
    "            biases = bias_variable([output_dim])\n",
    "            variable_summaries(biases)\n",
    "        with tf.name_scope('Wx_plus_b'):\n",
    "            preactivate = tf.matmul(input_tensor, weights) + biases\n",
    "            tf.summary.histogram('pre_activations', preactivate)\n",
    "        activations = act(preactivate, name='activation')\n",
    "        tf.summary.histogram('activations', activations)\n",
    "        return activations"
   ]
  },
  {
   "cell_type": "code",
   "execution_count": 29,
   "metadata": {},
   "outputs": [],
   "source": [
    "# hidden1 = nn_layer(x, 44, 20, 'layer1', act=tf.nn.sigmoid)\n",
    "# hidden2 = nn_layer(hidden1, 80, 20, 'layer2', act=tf.nn.sigmoid)\n",
    "# pred = nn_layer(hidden1, 20, 2, 'layer3', act=tf.identity)\n",
    "\n",
    "pred = nn_layer(x, 44, 2, 'layer1', act=tf.identity)\n",
    "\n",
    "# with tf.name_scope('des'):\n",
    "#     des = (tf.sign(pred)+1)/2\n",
    "#     variable_summaries(des)\n",
    "    \n",
    "# with tf.name_scope('loss'):\n",
    "#     loss = tf.reduce_mean(des*(tf.cast(y, tf.float64)*(-1)+(1-tf.cast(y, tf.float64))*0.1))\n",
    "# tf.summary.scalar('loss', loss)\n",
    "\n",
    "# with tf.name_scope('train'):\n",
    "#     train_step = tf.train.AdamOptimizer(0.01).minimize(-loss)\n",
    "\n",
    "with tf.name_scope('prob'):\n",
    "    prob = tf.nn.softmax(pred)\n",
    "    variable_summaries(prob)\n",
    "\n",
    "with tf.name_scope('cross_entropy'):\n",
    "    diff = tf.nn.softmax_cross_entropy_with_logits(labels=y, logits=pred)\n",
    "    with tf.name_scope('total'):\n",
    "        cross_entropy = tf.reduce_mean(diff)\n",
    "tf.summary.scalar('cross_entropy', cross_entropy)\n",
    "\n",
    "with tf.name_scope('train'):\n",
    "    train_step = tf.train.GradientDescentOptimizer(0.01).minimize(cross_entropy)"
   ]
  },
  {
   "cell_type": "code",
   "execution_count": 30,
   "metadata": {},
   "outputs": [
    {
     "data": {
      "text/plain": [
       "<tf.Tensor 'accuracy_1:0' shape=() dtype=string>"
      ]
     },
     "execution_count": 30,
     "metadata": {},
     "output_type": "execute_result"
    }
   ],
   "source": [
    "with tf.name_scope('accuracy'):\n",
    "    with tf.name_scope('correct_prediction'):\n",
    "        correct_prediction = tf.equal(tf.argmax(y, 1), tf.argmax(pred, 1))\n",
    "    with tf.name_scope('accuracy'):\n",
    "        accuracy = tf.reduce_mean(tf.cast(correct_prediction, tf.float32))\n",
    "tf.summary.scalar('accuracy', accuracy)"
   ]
  },
  {
   "cell_type": "code",
   "execution_count": 31,
   "metadata": {},
   "outputs": [],
   "source": [
    "merged = tf.summary.merge_all()"
   ]
  },
  {
   "cell_type": "code",
   "execution_count": 39,
   "metadata": {},
   "outputs": [
    {
     "name": "stderr",
     "output_type": "stream",
     "text": [
      "100%|██████████| 10000/10000 [00:21<00:00, 457.95it/s]\n"
     ]
    }
   ],
   "source": [
    "# with tf.device('/cpu:0'):\n",
    "sess = tf.Session()\n",
    "train_writer = tf.summary.FileWriter('./sess1/', sess.graph)\n",
    "sess.run(tf.global_variables_initializer())\n",
    "import numpy as np\n",
    "import tqdm\n",
    "import random\n",
    "for i in tqdm.tqdm(range(10000)):\n",
    "    idx = np.random.choice(np.arange(len(X_train)), 1000)\n",
    "#     idx1 = np.random.choice(np.arange(len(X_d)), 1000)\n",
    "#     idx2 = np.random.choice(np.arange(len(X_n)), 1000)\n",
    "#     batch_Xs = np.concatenate((X_d[idx1], X_n[idx2]), axis=0)\n",
    "#     batch_Ys = np.concatenate((Y_d[idx1], Y_n[idx2]), axis=0)\n",
    "    batch_Xs = X_train[idx]\n",
    "    batch_Ys = Y_train[idx]\n",
    "    summary, _ = sess.run([merged, train_step], feed_dict={x: batch_Xs, y: batch_Ys})\n",
    "    train_writer.add_summary(summary, i)"
   ]
  },
  {
   "cell_type": "code",
   "execution_count": 40,
   "metadata": {},
   "outputs": [
    {
     "data": {
      "text/plain": [
       "<matplotlib.axes._subplots.AxesSubplot at 0x7f7e8c121048>"
      ]
     },
     "execution_count": 40,
     "metadata": {},
     "output_type": "execute_result"
    },
    {
     "data": {
      "image/png": "[encoded data removed]",
      "text/plain": [
       "<matplotlib.figure.Figure at 0x7f7e9c031160>"
      ]
     },
     "metadata": {},
     "output_type": "display_data"
    }
   ],
   "source": [
    "import matplotlib.pyplot as plt\n",
    "import seaborn as sns\n",
    "%matplotlib inline\n",
    "p =sess.run(prob, feed_dict={x: X_test})\n",
    "sns.distplot(p[:,0])"
   ]
  },
  {
   "cell_type": "code",
   "execution_count": 41,
   "metadata": {},
   "outputs": [
    {
     "data": {
      "text/plain": [
       "array([[ 9657,  3186],\n",
       "       [28083, 31939]])"
      ]
     },
     "execution_count": 41,
     "metadata": {},
     "output_type": "execute_result"
    }
   ],
   "source": [
    "from sklearn.metrics import confusion_matrix\n",
    "y_1, y_2 = sess.run([tf.argmax(y, 1), tf.argmax(pred, 1)] , {x: X_test, y: Y_test})\n",
    "confusion_matrix(y_1, y_2)"
   ]
  },
  {
   "cell_type": "code",
   "execution_count": 42,
   "metadata": {},
   "outputs": [
    {
     "data": {
      "text/plain": [
       "array([[22338,  7499],\n",
       "       [65425, 74754]])"
      ]
     },
     "execution_count": 42,
     "metadata": {},
     "output_type": "execute_result"
    }
   ],
   "source": [
    "from sklearn.metrics import confusion_matrix\n",
    "y_1, y_2 = sess.run([tf.argmax(y, 1), tf.argmax(pred, 1)] , {x: X_train, y: Y_train})\n",
    "confusion_matrix(y_1, y_2)"
   ]
  },
  {
   "cell_type": "code",
   "execution_count": 36,
   "metadata": {},
   "outputs": [],
   "source": [
    "idx1 = np.random.choice(np.arange(len(Y_test[Y_test[:,1] == 0])), 10000)\n",
    "idx2 = np.random.choice(np.arange(len(Y_test[Y_test[:,1] == 1])), 10000)\n",
    "\n",
    "y_test_1 = Y_test[Y_test[:,1] == 0][idx1]\n",
    "x_test_1 = X_test[Y_test[:,1] == 0][idx1]\n",
    "y_test_2 = Y_test[Y_test[:,1] == 1][idx2]\n",
    "x_test_2 = X_test[Y_test[:,1] == 1][idx2]"
   ]
  },
  {
   "cell_type": "code",
   "execution_count": 37,
   "metadata": {},
   "outputs": [
    {
     "data": {
      "text/plain": [
       "array([[ 5.,  0.],\n",
       "       [ 5.,  0.],\n",
       "       [ 5.,  0.],\n",
       "       ..., \n",
       "       [ 0.,  1.],\n",
       "       [ 0.,  1.],\n",
       "       [ 0.,  1.]])"
      ]
     },
     "execution_count": 37,
     "metadata": {},
     "output_type": "execute_result"
    }
   ],
   "source": [
    "np.concatenate([x_test_1, x_test_2])\n",
    "np.concatenate([y_test_1, y_test_2])"
   ]
  },
  {
   "cell_type": "code",
   "execution_count": 38,
   "metadata": {},
   "outputs": [
    {
     "data": {
      "text/plain": [
       "0.6401"
      ]
     },
     "execution_count": 38,
     "metadata": {},
     "output_type": "execute_result"
    }
   ],
   "source": [
    "sess.run(accuracy, feed_dict={x: np.concatenate([x_test_1, x_test_2]), y: np.concatenate([y_test_1, y_test_2])})"
   ]
  },
  {
   "cell_type": "code",
   "execution_count": null,
   "metadata": {},
   "outputs": [],
   "source": []
  }
 ],
 "metadata": {
  "kernelspec": {
   "display_name": "Python 3",
   "language": "python",
   "name": "python3"
  },
  "language_info": {
   "codemirror_mode": {
    "name": "ipython",
    "version": 3
   },
   "file_extension": ".py",
   "mimetype": "text/x-python",
   "name": "python",
   "nbconvert_exporter": "python",
   "pygments_lexer": "ipython3",
   "version": "3.5.2"
  }
 },
 "nbformat": 4,
 "nbformat_minor": 2
}
