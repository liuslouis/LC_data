{
 "cells": [
  {
   "cell_type": "code",
   "execution_count": null,
   "metadata": {},
   "outputs": [],
   "source": [
    "import pandas \n",
    "df = pandas.read_csv(\"loan_data_cleaned.csv\", sep='\\t', encoding='utf-8')"
   ]
  },
  {
   "cell_type": "code",
   "execution_count": 18,
   "metadata": {},
   "outputs": [
    {
     "name": "stderr",
     "output_type": "stream",
     "text": [
      "/home/louis/projects/LC_data/.env/lib/python3.5/site-packages/IPython/core/interactiveshell.py:2728: DtypeWarning: Columns (19,55) have mixed types. Specify dtype option on import or set low_memory=False.\n",
      "  interactivity=interactivity, compiler=compiler, result=result)\n",
      "/home/louis/projects/LC_data/.env/lib/python3.5/site-packages/ipykernel_launcher.py:67: DeprecationWarning: \n",
      ".ix is deprecated. Please use\n",
      ".loc for label based indexing or\n",
      ".iloc for positional indexing\n",
      "\n",
      "See the documentation here:\n",
      "http://pandas.pydata.org/pandas-docs/stable/indexing.html#ix-indexer-is-deprecated\n"
     ]
    },
    {
     "data": {
      "text/html": [
       "<div>\n",
       "<style scoped>\n",
       "    .dataframe tbody tr th:only-of-type {\n",
       "        vertical-align: middle;\n",
       "    }\n",
       "\n",
       "    .dataframe tbody tr th {\n",
       "        vertical-align: top;\n",
       "    }\n",
       "\n",
       "    .dataframe thead th {\n",
       "        text-align: right;\n",
       "    }\n",
       "</style>\n",
       "<table border=\"1\" class=\"dataframe\">\n",
       "  <thead>\n",
       "    <tr style=\"text-align: right;\">\n",
       "      <th></th>\n",
       "      <th>loan_status</th>\n",
       "      <th>loan_amnt</th>\n",
       "      <th>installment</th>\n",
       "      <th>grade</th>\n",
       "      <th>emp_length</th>\n",
       "      <th>annual_inc</th>\n",
       "      <th>dti</th>\n",
       "      <th>delinq_2yrs</th>\n",
       "      <th>inq_last_6mths</th>\n",
       "      <th>open_acc</th>\n",
       "      <th>...</th>\n",
       "      <th>home_ownership_RENT</th>\n",
       "      <th>verification_status_Not Verified</th>\n",
       "      <th>verification_status_Source Verified</th>\n",
       "      <th>verification_status_Verified</th>\n",
       "      <th>purpose_home</th>\n",
       "      <th>purpose_major_purchase</th>\n",
       "      <th>purpose_other</th>\n",
       "      <th>purpose_refinance</th>\n",
       "      <th>term_ 36 months</th>\n",
       "      <th>term_ 60 months</th>\n",
       "    </tr>\n",
       "  </thead>\n",
       "  <tbody>\n",
       "    <tr>\n",
       "      <th>42538</th>\n",
       "      <td>0</td>\n",
       "      <td>12000.0</td>\n",
       "      <td>407.40</td>\n",
       "      <td>2</td>\n",
       "      <td>10</td>\n",
       "      <td>40000.0</td>\n",
       "      <td>16.94</td>\n",
       "      <td>0.0</td>\n",
       "      <td>0.0</td>\n",
       "      <td>7.0</td>\n",
       "      <td>...</td>\n",
       "      <td>1</td>\n",
       "      <td>0</td>\n",
       "      <td>1</td>\n",
       "      <td>0</td>\n",
       "      <td>0</td>\n",
       "      <td>0</td>\n",
       "      <td>0</td>\n",
       "      <td>1</td>\n",
       "      <td>1</td>\n",
       "      <td>0</td>\n",
       "    </tr>\n",
       "    <tr>\n",
       "      <th>42544</th>\n",
       "      <td>0</td>\n",
       "      <td>3000.0</td>\n",
       "      <td>100.87</td>\n",
       "      <td>2</td>\n",
       "      <td>10</td>\n",
       "      <td>25000.0</td>\n",
       "      <td>24.68</td>\n",
       "      <td>0.0</td>\n",
       "      <td>0.0</td>\n",
       "      <td>5.0</td>\n",
       "      <td>...</td>\n",
       "      <td>1</td>\n",
       "      <td>0</td>\n",
       "      <td>0</td>\n",
       "      <td>1</td>\n",
       "      <td>0</td>\n",
       "      <td>0</td>\n",
       "      <td>0</td>\n",
       "      <td>1</td>\n",
       "      <td>1</td>\n",
       "      <td>0</td>\n",
       "    </tr>\n",
       "    <tr>\n",
       "      <th>42546</th>\n",
       "      <td>0</td>\n",
       "      <td>28000.0</td>\n",
       "      <td>872.52</td>\n",
       "      <td>1</td>\n",
       "      <td>5</td>\n",
       "      <td>325000.0</td>\n",
       "      <td>18.55</td>\n",
       "      <td>0.0</td>\n",
       "      <td>1.0</td>\n",
       "      <td>15.0</td>\n",
       "      <td>...</td>\n",
       "      <td>0</td>\n",
       "      <td>0</td>\n",
       "      <td>1</td>\n",
       "      <td>0</td>\n",
       "      <td>0</td>\n",
       "      <td>0</td>\n",
       "      <td>0</td>\n",
       "      <td>1</td>\n",
       "      <td>1</td>\n",
       "      <td>0</td>\n",
       "    </tr>\n",
       "    <tr>\n",
       "      <th>42549</th>\n",
       "      <td>0</td>\n",
       "      <td>24000.0</td>\n",
       "      <td>814.80</td>\n",
       "      <td>2</td>\n",
       "      <td>10</td>\n",
       "      <td>100000.0</td>\n",
       "      <td>22.18</td>\n",
       "      <td>0.0</td>\n",
       "      <td>0.0</td>\n",
       "      <td>14.0</td>\n",
       "      <td>...</td>\n",
       "      <td>0</td>\n",
       "      <td>0</td>\n",
       "      <td>0</td>\n",
       "      <td>1</td>\n",
       "      <td>0</td>\n",
       "      <td>0</td>\n",
       "      <td>0</td>\n",
       "      <td>1</td>\n",
       "      <td>1</td>\n",
       "      <td>0</td>\n",
       "    </tr>\n",
       "    <tr>\n",
       "      <th>42550</th>\n",
       "      <td>1</td>\n",
       "      <td>8000.0</td>\n",
       "      <td>261.88</td>\n",
       "      <td>2</td>\n",
       "      <td>2</td>\n",
       "      <td>33000.0</td>\n",
       "      <td>15.75</td>\n",
       "      <td>0.0</td>\n",
       "      <td>1.0</td>\n",
       "      <td>9.0</td>\n",
       "      <td>...</td>\n",
       "      <td>0</td>\n",
       "      <td>1</td>\n",
       "      <td>0</td>\n",
       "      <td>0</td>\n",
       "      <td>0</td>\n",
       "      <td>0</td>\n",
       "      <td>0</td>\n",
       "      <td>1</td>\n",
       "      <td>1</td>\n",
       "      <td>0</td>\n",
       "    </tr>\n",
       "  </tbody>\n",
       "</table>\n",
       "<p>5 rows × 34 columns</p>\n",
       "</div>"
      ],
      "text/plain": [
       "       loan_status  loan_amnt  installment  grade  emp_length  annual_inc  \\\n",
       "42538            0    12000.0       407.40      2          10     40000.0   \n",
       "42544            0     3000.0       100.87      2          10     25000.0   \n",
       "42546            0    28000.0       872.52      1           5    325000.0   \n",
       "42549            0    24000.0       814.80      2          10    100000.0   \n",
       "42550            1     8000.0       261.88      2           2     33000.0   \n",
       "\n",
       "         dti  delinq_2yrs  inq_last_6mths  open_acc       ...         \\\n",
       "42538  16.94          0.0             0.0       7.0       ...          \n",
       "42544  24.68          0.0             0.0       5.0       ...          \n",
       "42546  18.55          0.0             1.0      15.0       ...          \n",
       "42549  22.18          0.0             0.0      14.0       ...          \n",
       "42550  15.75          0.0             1.0       9.0       ...          \n",
       "\n",
       "       home_ownership_RENT  verification_status_Not Verified  \\\n",
       "42538                    1                                 0   \n",
       "42544                    1                                 0   \n",
       "42546                    0                                 0   \n",
       "42549                    0                                 0   \n",
       "42550                    0                                 1   \n",
       "\n",
       "       verification_status_Source Verified  verification_status_Verified  \\\n",
       "42538                                    1                             0   \n",
       "42544                                    0                             1   \n",
       "42546                                    1                             0   \n",
       "42549                                    0                             1   \n",
       "42550                                    0                             0   \n",
       "\n",
       "       purpose_home  purpose_major_purchase  purpose_other  purpose_refinance  \\\n",
       "42538             0                       0              0                  1   \n",
       "42544             0                       0              0                  1   \n",
       "42546             0                       0              0                  1   \n",
       "42549             0                       0              0                  1   \n",
       "42550             0                       0              0                  1   \n",
       "\n",
       "       term_ 36 months  term_ 60 months  \n",
       "42538                1                0  \n",
       "42544                1                0  \n",
       "42546                1                0  \n",
       "42549                1                0  \n",
       "42550                1                0  \n",
       "\n",
       "[5 rows x 34 columns]"
      ]
     },
     "execution_count": 18,
     "metadata": {},
     "output_type": "execute_result"
    }
   ],
   "source": [
    "import pandas as pd\n",
    "df = pd.read_csv(\"loan.csv\")\n",
    "\n",
    "df=df.drop(['id','member_id','funded_amnt','funded_amnt_inv','sub_grade','int_rate','emp_title','issue_d','zip_code',\n",
    "            'out_prncp','out_prncp_inv','total_pymnt','total_pymnt_inv','total_rec_prncp','total_rec_int','total_rec_late_fee',\n",
    "            'recoveries','collection_recovery_fee','last_pymnt_d','last_pymnt_amnt','desc','url','title',\n",
    "            'initial_list_status','pymnt_plan','policy_code','application_type','earliest_cr_line','last_credit_pull_d',\n",
    "            'next_pymnt_d','addr_state'],axis=1)\n",
    "\n",
    "df=df.dropna(thresh=len(df)/2,axis=1)\n",
    "df=df.dropna()\n",
    "\n",
    "def status_binary(text):\n",
    "    if text=='Fully Paid':\n",
    "        return 0\n",
    "    elif text=='Current' or text=='Issued':\n",
    "        return -1\n",
    "    else:\n",
    "        return 1\n",
    "df['loan_status']=df['loan_status'].apply(status_binary)\n",
    "df=df[df['loan_status']!=-1]\n",
    "\n",
    "def purpose_class(text):\n",
    "    if text=='debt_consolidation' or text=='credit_card':\n",
    "        return 'refinance'\n",
    "    elif text=='house' or text=='home_improvement' or text=='renewable_energy' or text=='moving':\n",
    "        return 'home'\n",
    "    elif text=='car' or text=='major_purchase':\n",
    "        return 'major_purchase'\n",
    "    else:\n",
    "        return 'other'\n",
    "df['purpose']=df['purpose'].apply(purpose_class)\n",
    "\n",
    "dummy_df=pd.get_dummies(df[['home_ownership','verification_status','purpose','term']])\n",
    "df=df.drop(['home_ownership','verification_status','purpose','term'],axis=1)\n",
    "df=pd.concat([df,dummy_df],axis=1)\n",
    "\n",
    "mapping_dict={\n",
    "    'emp_length':{\n",
    "        '10+ years':10,\n",
    "        '9 years':9,\n",
    "        '8 years':8,\n",
    "        '7 years':7,\n",
    "        '6 years':6,\n",
    "        '5 years':5,\n",
    "        '4 years':4,\n",
    "        '3 years':3,\n",
    "        '2 years':2,\n",
    "        '1 year':1,\n",
    "        '< 1 year':0,\n",
    "        'n/a':0\n",
    "    },\n",
    "    'grade':{\n",
    "        'A':1,\n",
    "        'B':2,\n",
    "        'C':3,\n",
    "        'D':4,\n",
    "        'E':5,\n",
    "        'F':6,\n",
    "        'G':7,\n",
    "    }\n",
    "}\n",
    "df=df.replace(mapping_dict)\n",
    "\n",
    "cols = list(df)\n",
    "cols.insert(0, cols.pop(cols.index('loan_status')))\n",
    "df = df.ix[:, cols]\n",
    "df.head()"
   ]
  },
  {
   "cell_type": "code",
   "execution_count": 19,
   "metadata": {},
   "outputs": [],
   "source": [
    "df['default'] = df['loan_status']\n",
    "df = df.drop(columns='loan_status')\n",
    "for k in df.keys():\n",
    "    if df[k].max() > 1.5:\n",
    "        df[k] = (df[k] - df[k].mean())/df[k].std()"
   ]
  },
  {
   "cell_type": "code",
   "execution_count": 20,
   "metadata": {},
   "outputs": [
    {
     "name": "stdout",
     "output_type": "stream",
     "text": [
      "(140830, 33)\n",
      "(60357, 33)\n",
      "(140830, 2)\n",
      "(60357, 2)\n"
     ]
    }
   ],
   "source": [
    "from sklearn.cross_validation import train_test_split\n",
    "df['not_default'] = 1 - df['default']\n",
    "Xs = df.drop(columns=['default', 'not_default']).values\n",
    "Ys = df[['default', 'not_default']].values*[5,1]\n",
    "# Ys = df[['default']].values\n",
    "# Xs = (Xs - Xs.mean())/Xs.std(axis=0)  # Normalize\n",
    "X_train, X_test, Y_train, Y_test = train_test_split(Xs, Ys, test_size=0.3, random_state=0)\n",
    "print(X_train.shape)\n",
    "print(X_test.shape)\n",
    "print(Y_train.shape)\n",
    "print(Y_test.shape)\n",
    "# X_d = X_train[Y_train[:, 0] == 1]\n",
    "# X_n = X_train[Y_train[:, 1] == 1]\n",
    "# Y_d = Y_train[Y_train[:, 0] == 1]\n",
    "# Y_n = Y_train[Y_train[:, 1] == 1]\n",
    "# print(X_d.shape)\n",
    "# print(X_n.shape)\n",
    "# print(Y_d.shape)\n",
    "# print(Y_n.shape)"
   ]
  },
  {
   "cell_type": "code",
   "execution_count": 21,
   "metadata": {},
   "outputs": [],
   "source": [
    "!rm -r sess1/"
   ]
  },
  {
   "cell_type": "code",
   "execution_count": 22,
   "metadata": {},
   "outputs": [],
   "source": [
    "import tensorflow as tf\n",
    "tf.reset_default_graph()"
   ]
  },
  {
   "cell_type": "code",
   "execution_count": 23,
   "metadata": {},
   "outputs": [],
   "source": [
    "with tf.name_scope('input'):\n",
    "    x = tf.placeholder(tf.float64, [None, 33], name='x-input')\n",
    "    y = tf.placeholder(tf.int64, [None, 2], name='y-input')"
   ]
  },
  {
   "cell_type": "code",
   "execution_count": 24,
   "metadata": {},
   "outputs": [],
   "source": [
    "def weight_variable(shape):\n",
    "    \"\"\"Create a weight variable with appropriate initialization.\"\"\"\n",
    "    initial = tf.truncated_normal(shape, stddev=0.01, dtype=tf.float64)\n",
    "    return tf.Variable(initial)\n",
    "\n",
    "def bias_variable(shape):\n",
    "    \"\"\"Create a bias variable with appropriate initialization.\"\"\"\n",
    "    initial = tf.truncated_normal(shape, stddev=0.01, dtype=tf.float64)\n",
    "    return tf.Variable(initial)"
   ]
  },
  {
   "cell_type": "code",
   "execution_count": 25,
   "metadata": {},
   "outputs": [],
   "source": [
    "def variable_summaries(var):\n",
    "    \"\"\"Attach a lot of summaries to a Tensor (for TensorBoard visualization).\"\"\"\n",
    "    with tf.name_scope('summaries'):\n",
    "        mean = tf.reduce_mean(var)\n",
    "        tf.summary.scalar('mean', mean)\n",
    "        with tf.name_scope('stddev'):\n",
    "            stddev = tf.sqrt(tf.reduce_mean(tf.square(var - mean)))\n",
    "        tf.summary.scalar('stddev', stddev)\n",
    "        tf.summary.scalar('max', tf.reduce_max(var))\n",
    "        tf.summary.scalar('min', tf.reduce_min(var))\n",
    "        tf.summary.histogram('histogram', var)"
   ]
  },
  {
   "cell_type": "code",
   "execution_count": 26,
   "metadata": {},
   "outputs": [],
   "source": [
    "def nn_layer(input_tensor, input_dim, output_dim, layer_name, act=tf.nn.relu):\n",
    "    # Adding a name scope ensures logical grouping of the layers in the graph.\n",
    "    with tf.name_scope(layer_name):\n",
    "        # This Variable will hold the state of the weights for the layer\n",
    "        with tf.name_scope('weights'):\n",
    "            weights = weight_variable([input_dim, output_dim])\n",
    "            variable_summaries(weights)\n",
    "        with tf.name_scope('biases'):\n",
    "            biases = bias_variable([output_dim])\n",
    "            variable_summaries(biases)\n",
    "        with tf.name_scope('Wx_plus_b'):\n",
    "            preactivate = tf.matmul(input_tensor, weights) + biases\n",
    "            tf.summary.histogram('pre_activations', preactivate)\n",
    "        activations = act(preactivate, name='activation')\n",
    "        tf.summary.histogram('activations', activations)\n",
    "        return activations"
   ]
  },
  {
   "cell_type": "code",
   "execution_count": 27,
   "metadata": {},
   "outputs": [],
   "source": [
    "# hidden1 = nn_layer(x, 44, 20, 'layer1', act=tf.nn.sigmoid)\n",
    "# hidden2 = nn_layer(hidden1, 80, 20, 'layer2', act=tf.nn.sigmoid)\n",
    "# pred = nn_layer(hidden1, 20, 2, 'layer3', act=tf.identity)\n",
    "\n",
    "pred = nn_layer(x, 33, 2, 'layer1', act=tf.identity)\n",
    "\n",
    "# with tf.name_scope('des'):\n",
    "#     des = (tf.sign(pred)+1)/2\n",
    "#     variable_summaries(des)\n",
    "    \n",
    "# with tf.name_scope('loss'):\n",
    "#     loss = tf.reduce_mean(des*(tf.cast(y, tf.float64)*(-1)+(1-tf.cast(y, tf.float64))*0.1))\n",
    "# tf.summary.scalar('loss', loss)\n",
    "\n",
    "# with tf.name_scope('train'):\n",
    "#     train_step = tf.train.AdamOptimizer(0.01).minimize(-loss)\n",
    "\n",
    "with tf.name_scope('prob'):\n",
    "    prob = tf.nn.softmax(pred)\n",
    "    variable_summaries(prob)\n",
    "\n",
    "with tf.name_scope('cross_entropy'):\n",
    "    diff = tf.nn.softmax_cross_entropy_with_logits(labels=y, logits=pred)\n",
    "    with tf.name_scope('total'):\n",
    "        cross_entropy = tf.reduce_mean(diff)\n",
    "tf.summary.scalar('cross_entropy', cross_entropy)\n",
    "\n",
    "with tf.name_scope('train'):\n",
    "    train_step = tf.train.GradientDescentOptimizer(0.01).minimize(cross_entropy)"
   ]
  },
  {
   "cell_type": "code",
   "execution_count": 28,
   "metadata": {},
   "outputs": [
    {
     "data": {
      "text/plain": [
       "<tf.Tensor 'accuracy_1:0' shape=() dtype=string>"
      ]
     },
     "execution_count": 28,
     "metadata": {},
     "output_type": "execute_result"
    }
   ],
   "source": [
    "with tf.name_scope('accuracy'):\n",
    "    with tf.name_scope('correct_prediction'):\n",
    "        correct_prediction = tf.equal(tf.argmax(y, 1), tf.argmax(pred, 1))\n",
    "    with tf.name_scope('accuracy'):\n",
    "        accuracy = tf.reduce_mean(tf.cast(correct_prediction, tf.float32))\n",
    "tf.summary.scalar('accuracy', accuracy)"
   ]
  },
  {
   "cell_type": "code",
   "execution_count": 29,
   "metadata": {},
   "outputs": [],
   "source": [
    "merged = tf.summary.merge_all()"
   ]
  },
  {
   "cell_type": "code",
   "execution_count": 30,
   "metadata": {},
   "outputs": [
    {
     "name": "stderr",
     "output_type": "stream",
     "text": [
      "100%|██████████| 10000/10000 [00:21<00:00, 466.60it/s]\n"
     ]
    }
   ],
   "source": [
    "# with tf.device('/cpu:0'):\n",
    "sess = tf.Session()\n",
    "train_writer = tf.summary.FileWriter('./sess1/', sess.graph)\n",
    "sess.run(tf.global_variables_initializer())\n",
    "import numpy as np\n",
    "import tqdm\n",
    "import random\n",
    "for i in tqdm.tqdm(range(10000)):\n",
    "    idx = np.random.choice(np.arange(len(X_train)), 1000)\n",
    "#     idx1 = np.random.choice(np.arange(len(X_d)), 1000)\n",
    "#     idx2 = np.random.choice(np.arange(len(X_n)), 1000)\n",
    "#     batch_Xs = np.concatenate((X_d[idx1], X_n[idx2]), axis=0)\n",
    "#     batch_Ys = np.concatenate((Y_d[idx1], Y_n[idx2]), axis=0)\n",
    "    batch_Xs = X_train[idx]\n",
    "    batch_Ys = Y_train[idx]\n",
    "    summary, _ = sess.run([merged, train_step], feed_dict={x: batch_Xs, y: batch_Ys})\n",
    "#     if not i % 100:\n",
    "#         print(sess.run([accuracy, cross_entropy], feed_dict={x: X_test, y: Y_test}))\n",
    "    train_writer.add_summary(summary, i)"
   ]
  },
  {
   "cell_type": "code",
   "execution_count": 31,
   "metadata": {},
   "outputs": [
    {
     "data": {
      "text/plain": [
       "<matplotlib.axes._subplots.AxesSubplot at 0x7f0cf8703b38>"
      ]
     },
     "execution_count": 31,
     "metadata": {},
     "output_type": "execute_result"
    },
    {
     "data": {
      "image/png": "[encoded data removed]",
      "text/plain": [
       "<matplotlib.figure.Figure at 0x7f0da8478d68>"
      ]
     },
     "metadata": {},
     "output_type": "display_data"
    }
   ],
   "source": [
    "import matplotlib.pyplot as plt\n",
    "import seaborn as sns\n",
    "%matplotlib inline\n",
    "p =sess.run(prob, feed_dict={x: X_test})\n",
    "sns.distplot(p[:,0])"
   ]
  },
  {
   "cell_type": "code",
   "execution_count": 32,
   "metadata": {},
   "outputs": [
    {
     "data": {
      "text/plain": [
       "array([[14122,  1576],\n",
       "       [31474, 13185]])"
      ]
     },
     "execution_count": 32,
     "metadata": {},
     "output_type": "execute_result"
    }
   ],
   "source": [
    "from sklearn.metrics import confusion_matrix\n",
    "y_1, y_2 = sess.run([tf.argmax(y, 1), tf.argmax(pred, 1)], feed_dict={x: X_test, y: Y_test})\n",
    "confusion_matrix(y_1, y_2)"
   ]
  },
  {
   "cell_type": "code",
   "execution_count": 33,
   "metadata": {},
   "outputs": [
    {
     "data": {
      "text/plain": [
       "array([[33654,  3770],\n",
       "       [72482, 30924]])"
      ]
     },
     "execution_count": 33,
     "metadata": {},
     "output_type": "execute_result"
    }
   ],
   "source": [
    "from sklearn.metrics import confusion_matrix\n",
    "y_1, y_2 = sess.run([tf.argmax(y, 1), tf.argmax(pred, 1)] , {x: X_train, y: Y_train})\n",
    "confusion_matrix(y_1, y_2)"
   ]
  },
  {
   "cell_type": "code",
   "execution_count": 34,
   "metadata": {},
   "outputs": [],
   "source": [
    "idx1 = np.random.choice(np.arange(len(Y_test[Y_test[:,1] == 0])), 10000)\n",
    "idx2 = np.random.choice(np.arange(len(Y_test[Y_test[:,1] == 1])), 10000)\n",
    "\n",
    "y_test_1 = Y_test[Y_test[:,1] == 0][idx1]\n",
    "x_test_1 = X_test[Y_test[:,1] == 0][idx1]\n",
    "y_test_2 = Y_test[Y_test[:,1] == 1][idx2]\n",
    "x_test_2 = X_test[Y_test[:,1] == 1][idx2]"
   ]
  },
  {
   "cell_type": "code",
   "execution_count": null,
   "metadata": {},
   "outputs": [],
   "source": [
    "np.concatenate([x_test_1, x_test_2])\n",
    "np.concatenate([y_test_1, y_test_2])"
   ]
  },
  {
   "cell_type": "code",
   "execution_count": null,
   "metadata": {},
   "outputs": [],
   "source": [
    "sess.run(accuracy, feed_dict={x: np.concatenate([x_test_1, x_test_2]), y: np.concatenate([y_test_1, y_test_2])})"
   ]
  },
  {
   "cell_type": "code",
   "execution_count": 31,
   "metadata": {},
   "outputs": [
    {
     "data": {
      "text/plain": [
       "44659"
      ]
     },
     "execution_count": 31,
     "metadata": {},
     "output_type": "execute_result"
    }
   ],
   "source": [
    "Y_test[:,1].sum()"
   ]
  },
  {
   "cell_type": "code",
   "execution_count": 30,
   "metadata": {},
   "outputs": [
    {
     "data": {
      "text/plain": [
       "15698"
      ]
     },
     "execution_count": 30,
     "metadata": {},
     "output_type": "execute_result"
    }
   ],
   "source": [
    "14204+1494"
   ]
  },
  {
   "cell_type": "code",
   "execution_count": null,
   "metadata": {},
   "outputs": [],
   "source": []
  }
 ],
 "metadata": {
  "kernelspec": {
   "display_name": "Python 3",
   "language": "python",
   "name": "python3"
  },
  "language_info": {
   "codemirror_mode": {
    "name": "ipython",
    "version": 3
   },
   "file_extension": ".py",
   "mimetype": "text/x-python",
   "name": "python",
   "nbconvert_exporter": "python",
   "pygments_lexer": "ipython3",
   "version": "3.5.2"
  }
 },
 "nbformat": 4,
 "nbformat_minor": 2
}
