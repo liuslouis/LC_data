{
 "cells": [
  {
   "cell_type": "code",
   "execution_count": null,
   "metadata": {},
   "outputs": [],
   "source": [
    "# !pip install pandas\n",
    "# !pip install matplotlib\n",
    "# !pip install scipy\n",
    "# !pip install vincent\n",
    "# !pip install zipcode\n",
    "# !pip install tqdm\n",
    "# !pip install gmplot\n",
    "# !pip install sklearn"
   ]
  },
  {
   "cell_type": "code",
   "execution_count": 2,
   "metadata": {},
   "outputs": [
    {
     "name": "stderr",
     "output_type": "stream",
     "text": [
      "/home/louis/projects/da_project/.env/lib/python3.5/site-packages/IPython/core/interactiveshell.py:2728: DtypeWarning: Columns (19,55) have mixed types. Specify dtype option on import or set low_memory=False.\n",
      "  interactivity=interactivity, compiler=compiler, result=result)\n"
     ]
    }
   ],
   "source": [
    "import pandas\n",
    "df = pandas.read_csv(\"loan.csv\")"
   ]
  },
  {
   "cell_type": "code",
   "execution_count": 3,
   "metadata": {},
   "outputs": [
    {
     "data": {
      "text/plain": [
       "loan_status\n",
       "Charged Off                                             45248\n",
       "Current                                                601779\n",
       "Default                                                  1219\n",
       "Does not meet the credit policy. Status:Charged Off       761\n",
       "Does not meet the credit policy. Status:Fully Paid       1988\n",
       "Fully Paid                                             207723\n",
       "In Grace Period                                          6253\n",
       "Issued                                                   8460\n",
       "Late (16-30 days)                                        2357\n",
       "Late (31-120 days)                                      11591\n",
       "dtype: int64"
      ]
     },
     "execution_count": 3,
     "metadata": {},
     "output_type": "execute_result"
    }
   ],
   "source": [
    "%matplotlib inline\n",
    "import matplotlib.pyplot as plt\n",
    "df.groupby(\"loan_status\").size()"
   ]
  },
  {
   "cell_type": "code",
   "execution_count": 4,
   "metadata": {},
   "outputs": [],
   "source": [
    "df = df.iloc[1:100000]"
   ]
  },
  {
   "cell_type": "code",
   "execution_count": 5,
   "metadata": {},
   "outputs": [
    {
     "name": "stdout",
     "output_type": "stream",
     "text": [
      "<class 'pandas.core.frame.DataFrame'>\n",
      "RangeIndex: 99999 entries, 1 to 99999\n",
      "Data columns (total 74 columns):\n",
      "id                             99999 non-null int64\n",
      "member_id                      99999 non-null int64\n",
      "loan_amnt                      99999 non-null float64\n",
      "funded_amnt                    99999 non-null float64\n",
      "funded_amnt_inv                99999 non-null float64\n",
      "term                           99999 non-null object\n",
      "int_rate                       99999 non-null float64\n",
      "installment                    99999 non-null float64\n",
      "grade                          99999 non-null object\n",
      "sub_grade                      99999 non-null object\n",
      "emp_title                      93648 non-null object\n",
      "emp_length                     96253 non-null object\n",
      "home_ownership                 99999 non-null object\n",
      "annual_inc                     99995 non-null float64\n",
      "verification_status            99999 non-null object\n",
      "issue_d                        99999 non-null object\n",
      "loan_status                    99999 non-null object\n",
      "pymnt_plan                     99999 non-null object\n",
      "url                            99999 non-null object\n",
      "desc                           47043 non-null object\n",
      "purpose                        99999 non-null object\n",
      "title                          99984 non-null object\n",
      "zip_code                       99999 non-null object\n",
      "addr_state                     99999 non-null object\n",
      "dti                            99999 non-null float64\n",
      "delinq_2yrs                    99970 non-null float64\n",
      "earliest_cr_line               99970 non-null object\n",
      "inq_last_6mths                 99970 non-null float64\n",
      "mths_since_last_delinq         41922 non-null float64\n",
      "mths_since_last_record         10851 non-null float64\n",
      "open_acc                       99970 non-null float64\n",
      "pub_rec                        99970 non-null float64\n",
      "revol_bal                      99999 non-null float64\n",
      "revol_util                     99873 non-null float64\n",
      "total_acc                      99970 non-null float64\n",
      "initial_list_status            99999 non-null object\n",
      "out_prncp                      99999 non-null float64\n",
      "out_prncp_inv                  99999 non-null float64\n",
      "total_pymnt                    99999 non-null float64\n",
      "total_pymnt_inv                99999 non-null float64\n",
      "total_rec_prncp                99999 non-null float64\n",
      "total_rec_int                  99999 non-null float64\n",
      "total_rec_late_fee             99999 non-null float64\n",
      "recoveries                     99999 non-null float64\n",
      "collection_recovery_fee        99999 non-null float64\n",
      "last_pymnt_d                   99876 non-null object\n",
      "last_pymnt_amnt                99999 non-null float64\n",
      "next_pymnt_d                   35639 non-null object\n",
      "last_credit_pull_d             99984 non-null object\n",
      "collections_12_mths_ex_med     99854 non-null float64\n",
      "mths_since_last_major_derog    12309 non-null float64\n",
      "policy_code                    99999 non-null float64\n",
      "application_type               99999 non-null object\n",
      "annual_inc_joint               0 non-null float64\n",
      "dti_joint                      0 non-null float64\n",
      "verification_status_joint      0 non-null object\n",
      "acc_now_delinq                 99970 non-null float64\n",
      "tot_coll_amt                   57465 non-null float64\n",
      "tot_cur_bal                    57465 non-null float64\n",
      "open_acc_6m                    0 non-null float64\n",
      "open_il_6m                     0 non-null float64\n",
      "open_il_12m                    0 non-null float64\n",
      "open_il_24m                    0 non-null float64\n",
      "mths_since_rcnt_il             0 non-null float64\n",
      "total_bal_il                   0 non-null float64\n",
      "il_util                        0 non-null float64\n",
      "open_rv_12m                    0 non-null float64\n",
      "open_rv_24m                    0 non-null float64\n",
      "max_bal_bc                     0 non-null float64\n",
      "all_util                       0 non-null float64\n",
      "total_rev_hi_lim               57465 non-null float64\n",
      "inq_fi                         0 non-null float64\n",
      "total_cu_tl                    0 non-null float64\n",
      "inq_last_12m                   0 non-null float64\n",
      "dtypes: float64(49), int64(2), object(23)\n",
      "memory usage: 56.5+ MB\n"
     ]
    }
   ],
   "source": [
    "df.info()"
   ]
  },
  {
   "cell_type": "code",
   "execution_count": 6,
   "metadata": {},
   "outputs": [],
   "source": [
    "to_drop = [\"id\", \"member_id\", \"url\"]\n",
    "to_drop.extend([\"addr_state\",\"zip_code\"])\n",
    "to_drop.append(\"desc\")\n",
    "to_drop.extend(['funded_amnt', 'funded_amnt_inv'])\n",
    "to_drop.extend(['total_pymnt', 'total_pymnt_inv', 'total_rec_int', 'total_rec_late_fee', 'total_rec_prncp'])\n",
    "to_drop.extend(['mths_since_last_delinq', 'mths_since_last_record'])\n",
    "to_drop.append('emp_title')\n",
    "to_drop.extend(['last_pymnt_d', 'last_pymnt_amnt'])"
   ]
  },
  {
   "cell_type": "code",
   "execution_count": 7,
   "metadata": {},
   "outputs": [],
   "source": [
    "# df[\"loan_status\"].unique()\n",
    "def default_or_not(x):\n",
    "    if x == \"Charged Off\":\n",
    "        return 1\n",
    "    if x == \"Fully Paid\":\n",
    "        return 0\n",
    "    else:\n",
    "        return None\n",
    "    \n",
    "df[\"default\"] = df[\"loan_status\"].apply(default_or_not)\n",
    "df = df[df[\"default\"].notnull()]\n",
    "to_drop.append(\"loan_status\")"
   ]
  },
  {
   "cell_type": "code",
   "execution_count": 8,
   "metadata": {},
   "outputs": [],
   "source": [
    "# df[\"term\"].unique()\n",
    "df[\"long_term\"] = (df[\"term\"] == ' 60 months').apply(int)\n",
    "to_drop.append(\"term\")"
   ]
  },
  {
   "cell_type": "code",
   "execution_count": 9,
   "metadata": {},
   "outputs": [],
   "source": [
    "def emp_year(x):\n",
    "    try:\n",
    "        x = x.split()[0]\n",
    "    finally:\n",
    "        if x == '<':\n",
    "            return 0\n",
    "        if x == '10+':\n",
    "            return 10\n",
    "        else:\n",
    "            return int(x)\n",
    "        \n",
    "df = df[df[\"emp_length\"].notnull()]\n",
    "df[\"emp_year\"] = df[\"emp_length\"].apply(emp_year)\n",
    "to_drop.append(\"emp_length\")"
   ]
  },
  {
   "cell_type": "code",
   "execution_count": 10,
   "metadata": {},
   "outputs": [],
   "source": [
    "# single value variable\n",
    "for k in df.keys():\n",
    "    #print(k, len(df[k].unique()))\n",
    "    if len(df[k].unique()) == 1:\n",
    "        to_drop.append(k)"
   ]
  },
  {
   "cell_type": "code",
   "execution_count": 11,
   "metadata": {},
   "outputs": [
    {
     "name": "stdout",
     "output_type": "stream",
     "text": [
      "['C' 'A' 'E' 'F' 'B' 'D' 'G']\n"
     ]
    }
   ],
   "source": [
    "print(df['grade'].unique())\n",
    "df['grade_a'] = (df['grade'] == 'A').apply(int)\n",
    "df['grade_b'] = (df['grade'] == 'B').apply(int)\n",
    "df['grade_c'] = (df['grade'] == 'C').apply(int)\n",
    "df['grade_d'] = (df['grade'] == 'D').apply(int)\n",
    "df['grade_e'] = (df['grade'] == 'E').apply(int)\n",
    "df['grade_f'] = (df['grade'] == 'F').apply(int)\n",
    "df['grade_g'] = (df['grade'] == 'G').apply(int)\n",
    "to_drop.append(\"grade\")\n",
    "to_drop.append(\"sub_grade\")"
   ]
  },
  {
   "cell_type": "code",
   "execution_count": 12,
   "metadata": {},
   "outputs": [],
   "source": [
    "df.groupby('home_ownership').count()\n",
    "df['own_home'] = (df['home_ownership'] == \"OWN\").apply(int)\n",
    "to_drop.append('home_ownership')"
   ]
  },
  {
   "cell_type": "code",
   "execution_count": 13,
   "metadata": {},
   "outputs": [
    {
     "data": {
      "text/plain": [
       "array(['n', 'y'], dtype=object)"
      ]
     },
     "execution_count": 13,
     "metadata": {},
     "output_type": "execute_result"
    }
   ],
   "source": [
    "df['pymnt_plan'].unique()"
   ]
  },
  {
   "cell_type": "code",
   "execution_count": 14,
   "metadata": {},
   "outputs": [
    {
     "name": "stdout",
     "output_type": "stream",
     "text": [
      "['id', 'member_id', 'url', 'addr_state', 'zip_code', 'desc', 'funded_amnt', 'funded_amnt_inv', 'total_pymnt', 'total_pymnt_inv', 'total_rec_int', 'total_rec_late_fee', 'total_rec_prncp', 'mths_since_last_delinq', 'mths_since_last_record', 'emp_title', 'last_pymnt_d', 'last_pymnt_amnt', 'loan_status', 'term', 'emp_length', 'out_prncp', 'out_prncp_inv', 'next_pymnt_d', 'policy_code', 'application_type', 'annual_inc_joint', 'dti_joint', 'verification_status_joint', 'open_acc_6m', 'open_il_6m', 'open_il_12m', 'open_il_24m', 'mths_since_rcnt_il', 'total_bal_il', 'il_util', 'open_rv_12m', 'open_rv_24m', 'max_bal_bc', 'all_util', 'inq_fi', 'total_cu_tl', 'inq_last_12m', 'grade', 'sub_grade', 'home_ownership']\n"
     ]
    }
   ],
   "source": [
    "print(to_drop)"
   ]
  },
  {
   "cell_type": "code",
   "execution_count": 15,
   "metadata": {},
   "outputs": [
    {
     "name": "stdout",
     "output_type": "stream",
     "text": [
      "['id', 'member_id', 'url', 'addr_state', 'zip_code', 'desc', 'funded_amnt', 'funded_amnt_inv', 'total_pymnt', 'total_pymnt_inv', 'total_rec_int', 'total_rec_late_fee', 'total_rec_prncp', 'mths_since_last_delinq', 'mths_since_last_record', 'emp_title', 'last_pymnt_d', 'last_pymnt_amnt', 'loan_status', 'term', 'emp_length', 'out_prncp', 'out_prncp_inv', 'next_pymnt_d', 'policy_code', 'application_type', 'annual_inc_joint', 'dti_joint', 'verification_status_joint', 'open_acc_6m', 'open_il_6m', 'open_il_12m', 'open_il_24m', 'mths_since_rcnt_il', 'total_bal_il', 'il_util', 'open_rv_12m', 'open_rv_24m', 'max_bal_bc', 'all_util', 'inq_fi', 'total_cu_tl', 'inq_last_12m', 'grade', 'sub_grade', 'home_ownership']\n"
     ]
    }
   ],
   "source": [
    "print(to_drop)\n",
    "df = df.drop(columns = to_drop, errors = 'ignore')"
   ]
  },
  {
   "cell_type": "code",
   "execution_count": 16,
   "metadata": {},
   "outputs": [
    {
     "name": "stdout",
     "output_type": "stream",
     "text": [
      "<class 'pandas.core.frame.DataFrame'>\n",
      "Int64Index: 62288 entries, 1 to 99998\n",
      "Data columns (total 39 columns):\n",
      "loan_amnt                      62288 non-null float64\n",
      "int_rate                       62288 non-null float64\n",
      "installment                    62288 non-null float64\n",
      "annual_inc                     62288 non-null float64\n",
      "verification_status            62288 non-null object\n",
      "issue_d                        62288 non-null object\n",
      "pymnt_plan                     62288 non-null object\n",
      "purpose                        62288 non-null object\n",
      "title                          62278 non-null object\n",
      "dti                            62288 non-null float64\n",
      "delinq_2yrs                    62288 non-null float64\n",
      "earliest_cr_line               62288 non-null object\n",
      "inq_last_6mths                 62288 non-null float64\n",
      "open_acc                       62288 non-null float64\n",
      "pub_rec                        62288 non-null float64\n",
      "revol_bal                      62288 non-null float64\n",
      "revol_util                     62224 non-null float64\n",
      "total_acc                      62288 non-null float64\n",
      "initial_list_status            62288 non-null object\n",
      "recoveries                     62288 non-null float64\n",
      "collection_recovery_fee        62288 non-null float64\n",
      "last_credit_pull_d             62278 non-null object\n",
      "collections_12_mths_ex_med     62232 non-null float64\n",
      "mths_since_last_major_derog    5717 non-null float64\n",
      "acc_now_delinq                 62288 non-null float64\n",
      "tot_coll_amt                   25572 non-null float64\n",
      "tot_cur_bal                    25572 non-null float64\n",
      "total_rev_hi_lim               25572 non-null float64\n",
      "default                        62288 non-null float64\n",
      "long_term                      62288 non-null int64\n",
      "emp_year                       62288 non-null int64\n",
      "grade_a                        62288 non-null int64\n",
      "grade_b                        62288 non-null int64\n",
      "grade_c                        62288 non-null int64\n",
      "grade_d                        62288 non-null int64\n",
      "grade_e                        62288 non-null int64\n",
      "grade_f                        62288 non-null int64\n",
      "grade_g                        62288 non-null int64\n",
      "own_home                       62288 non-null int64\n",
      "dtypes: float64(21), int64(10), object(8)\n",
      "memory usage: 19.0+ MB\n"
     ]
    }
   ],
   "source": [
    "df.info()"
   ]
  },
  {
   "cell_type": "code",
   "execution_count": 189,
   "metadata": {},
   "outputs": [
    {
     "name": "stdout",
     "output_type": "stream",
     "text": [
      "Accuracy of logistic regression classifier on test set: 0.63\n"
     ]
    }
   ],
   "source": [
    "from sklearn.linear_model import LogisticRegression\n",
    "from sklearn.cross_validation import train_test_split\n",
    "\n",
    "X = df[['long_term','emp_year', 'own_home', 'int_rate', 'grade_a', 'grade_b', 'grade_c', 'grade_d', 'grade_e', 'grade_f', 'dti']]\n",
    "y = df['default']\n",
    "\n",
    "X_train, X_test, y_train, y_test = train_test_split(X, y, test_size=0.3, random_state=0)\n",
    "weight = y_train*4 + 1 \n",
    "\n",
    "logreg = LogisticRegression()\n",
    "# logreg.fit(X_train, y_train)\n",
    "logreg.fit(X_train, y_train, sample_weight=weight)\n",
    "\n",
    "y_pred = logreg.predict(X_test)\n",
    "print('Accuracy of logistic regression classifier on test set: {:.2f}'.format(logreg.score(X_test, y_test)))"
   ]
  },
  {
   "cell_type": "code",
   "execution_count": 190,
   "metadata": {},
   "outputs": [
    {
     "name": "stdout",
     "output_type": "stream",
     "text": [
      "[[9756 5850]\n",
      " [1093 1988]]\n"
     ]
    }
   ],
   "source": [
    "from sklearn.metrics import confusion_matrix\n",
    "matrix = confusion_matrix(y_test, y_pred)\n",
    "print(matrix)"
   ]
  },
  {
   "cell_type": "code",
   "execution_count": 191,
   "metadata": {},
   "outputs": [],
   "source": [
    "y_p = logreg.predict_proba(X_test)[:,0] > X_test['int_rate']/(100+X_test['int_rate'])"
   ]
  },
  {
   "cell_type": "code",
   "execution_count": 192,
   "metadata": {},
   "outputs": [],
   "source": [
    "y_pr = logreg.predict_proba(X_test)[:,0] > 0.5"
   ]
  },
  {
   "cell_type": "code",
   "execution_count": 193,
   "metadata": {},
   "outputs": [
    {
     "data": {
      "text/plain": [
       "10849"
      ]
     },
     "execution_count": 193,
     "metadata": {},
     "output_type": "execute_result"
    }
   ],
   "source": [
    "sum(y_pr)"
   ]
  },
  {
   "cell_type": "code",
   "execution_count": 194,
   "metadata": {},
   "outputs": [
    {
     "name": "stdout",
     "output_type": "stream",
     "text": [
      "[[  166 15440]\n",
      " [  115  2966]]\n"
     ]
    }
   ],
   "source": [
    "matrix = confusion_matrix(y_test, y_p)\n",
    "print(matrix)"
   ]
  },
  {
   "cell_type": "code",
   "execution_count": 188,
   "metadata": {},
   "outputs": [
    {
     "data": {
      "text/plain": [
       "array([ 0.77536626,  0.89539697,  0.48409131,  0.89201621,  0.69050531,\n",
       "        0.84481952,  0.81266717,  0.45372922,  0.50646895])"
      ]
     },
     "execution_count": 188,
     "metadata": {},
     "output_type": "execute_result"
    }
   ],
   "source": [
    "logreg.predict_proba(X_test)[1:10,0]"
   ]
  },
  {
   "cell_type": "code",
   "execution_count": null,
   "metadata": {
    "collapsed": true
   },
   "outputs": [],
   "source": [
    "df.head(5)"
   ]
  },
  {
   "cell_type": "code",
   "execution_count": null,
   "metadata": {},
   "outputs": [],
   "source": [
    "%matplotlib inline\n",
    "import matplotlib.pyplot as plt\n",
    "df[\"loan_amnt\"].plot.density()"
   ]
  },
  {
   "cell_type": "code",
   "execution_count": null,
   "metadata": {},
   "outputs": [],
   "source": [
    "df.groupby(\"grade\").size().plot.bar()"
   ]
  },
  {
   "cell_type": "code",
   "execution_count": null,
   "metadata": {},
   "outputs": [],
   "source": [
    "df.groupby(\"grade\")[\"int_rate\"].mean()"
   ]
  },
  {
   "cell_type": "code",
   "execution_count": null,
   "metadata": {},
   "outputs": [],
   "source": [
    "df.groupby(\"sub_grade\")[\"int_rate\"].mean().plot.bar()"
   ]
  },
  {
   "cell_type": "code",
   "execution_count": null,
   "metadata": {},
   "outputs": [],
   "source": [
    "df.groupby(\"emp_length\")[\"id\"].count().plot.bar()"
   ]
  },
  {
   "cell_type": "code",
   "execution_count": null,
   "metadata": {},
   "outputs": [],
   "source": [
    "def get_loc(zip_code):\n",
    "    import zipcode\n",
    "    short_code = zip_code.replace('x', '')\n",
    "    l = zipcode.islike(short_code)\n",
    "    if l:\n",
    "        location = l[0]\n",
    "        return (location.lon, location.lat)\n",
    "    else:\n",
    "        return (None, None)\n",
    "\n",
    "from tqdm import tqdm\n",
    "tqdm.pandas(desc=\"Pandas progress\")\n",
    "df[\"lon\"] = df[\"zip_code\"].progress_apply(lambda x: get_loc(x)[0])\n",
    "df[\"lat\"] = df[\"zip_code\"].progress_apply(lambda x: get_loc(x)[1])\n",
    "\n",
    "import gmplot\n",
    "df2 = df[df[\"lon\"].notnull()]\n",
    "gmap = gmplot.GoogleMapPlotter.from_geocode(\"The United State\",4)\n",
    "gmap.heatmap(df2['lat'], df2['lon'])\n",
    "gmap.draw('heat_map.html')"
   ]
  },
  {
   "cell_type": "code",
   "execution_count": null,
   "metadata": {},
   "outputs": [],
   "source": [
    "df.groupby(\"loan_status\").size().plot.bar()"
   ]
  },
  {
   "cell_type": "code",
   "execution_count": null,
   "metadata": {},
   "outputs": [],
   "source": [
    "df[\"loan_status\"].unique()"
   ]
  },
  {
   "cell_type": "markdown",
   "metadata": {},
   "source": [
    "https://www.dataquest.io/blog/machine-learning-preparing-data/"
   ]
  },
  {
   "cell_type": "code",
   "execution_count": null,
   "metadata": {},
   "outputs": [],
   "source": [
    "df[\"annual_inc\"].plot.density(logx = True)"
   ]
  },
  {
   "cell_type": "code",
   "execution_count": null,
   "metadata": {},
   "outputs": [],
   "source": [
    "df[\"annual_inc\"].describe()"
   ]
  },
  {
   "cell_type": "code",
   "execution_count": null,
   "metadata": {},
   "outputs": [],
   "source": [
    "df.iloc[3]"
   ]
  },
  {
   "cell_type": "code",
   "execution_count": null,
   "metadata": {},
   "outputs": [],
   "source": [
    "df.groupby(\"purpose\").size().plot.bar()"
   ]
  },
  {
   "cell_type": "code",
   "execution_count": null,
   "metadata": {},
   "outputs": [],
   "source": [
    "df['dti'].plot.density()"
   ]
  },
  {
   "cell_type": "code",
   "execution_count": null,
   "metadata": {},
   "outputs": [],
   "source": [
    "df[\"verification_status\"].unique()"
   ]
  },
  {
   "cell_type": "code",
   "execution_count": null,
   "metadata": {},
   "outputs": [],
   "source": [
    "df[df[\"annual_inc\"] > 1000000]"
   ]
  },
  {
   "cell_type": "code",
   "execution_count": null,
   "metadata": {},
   "outputs": [],
   "source": [
    "df.groupby(\"loan_status\")[\"int_rate\"].mean().plot.bar()"
   ]
  },
  {
   "cell_type": "code",
   "execution_count": null,
   "metadata": {},
   "outputs": [],
   "source": [
    "df.groupby((\"term\",\"loan_status\")).size().plot.bar()"
   ]
  },
  {
   "cell_type": "code",
   "execution_count": null,
   "metadata": {},
   "outputs": [],
   "source": [
    "df[\"emp_title\"].unique()"
   ]
  },
  {
   "cell_type": "code",
   "execution_count": null,
   "metadata": {},
   "outputs": [],
   "source": []
  }
 ],
 "metadata": {
  "kernelspec": {
   "display_name": "Python 3",
   "language": "python",
   "name": "python3"
  },
  "language_info": {
   "codemirror_mode": {
    "name": "ipython",
    "version": 3
   },
   "file_extension": ".py",
   "mimetype": "text/x-python",
   "name": "python",
   "nbconvert_exporter": "python",
   "pygments_lexer": "ipython3",
   "version": "3.5.2"
  }
 },
 "nbformat": 4,
 "nbformat_minor": 2
}
