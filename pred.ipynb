{
 "cells": [
  {
   "cell_type": "code",
   "execution_count": 6,
   "metadata": {},
   "outputs": [],
   "source": [
    "# !pip install pandas\n",
    "# !pip install matplotlib\n",
    "# !pip install scipy\n",
    "# !pip install vincent\n",
    "# !pip install zipcode\n",
    "# !pip install tqdm\n",
    "# !pip install gmplot\n",
    "# !pip install sklearn\n",
    "# !pip install seaborn\n",
    "# !pip install tensorflow-gpu"
   ]
  },
  {
   "cell_type": "code",
   "execution_count": 11,
   "metadata": {},
   "outputs": [
    {
     "name": "stderr",
     "output_type": "stream",
     "text": [
      "/home/louis/projects/LC_data/.env/lib/python3.5/site-packages/IPython/core/interactiveshell.py:2728: DtypeWarning: Columns (19,55) have mixed types. Specify dtype option on import or set low_memory=False.\n",
      "  interactivity=interactivity, compiler=compiler, result=result)\n"
     ]
    }
   ],
   "source": [
    "import pandas\n",
    "df = pandas.read_csv(\"loan.csv\")"
   ]
  },
  {
   "cell_type": "code",
   "execution_count": 12,
   "metadata": {},
   "outputs": [
    {
     "data": {
      "text/plain": [
       "loan_status\n",
       "Charged Off                                             45248\n",
       "Current                                                601779\n",
       "Default                                                  1219\n",
       "Does not meet the credit policy. Status:Charged Off       761\n",
       "Does not meet the credit policy. Status:Fully Paid       1988\n",
       "Fully Paid                                             207723\n",
       "In Grace Period                                          6253\n",
       "Issued                                                   8460\n",
       "Late (16-30 days)                                        2357\n",
       "Late (31-120 days)                                      11591\n",
       "dtype: int64"
      ]
     },
     "execution_count": 12,
     "metadata": {},
     "output_type": "execute_result"
    }
   ],
   "source": [
    "%matplotlib inline\n",
    "import matplotlib.pyplot as plt\n",
    "df.groupby(\"loan_status\").size()"
   ]
  },
  {
   "cell_type": "code",
   "execution_count": 13,
   "metadata": {},
   "outputs": [],
   "source": [
    "# df = df.iloc[1:100000]"
   ]
  },
  {
   "cell_type": "code",
   "execution_count": 14,
   "metadata": {
    "scrolled": true
   },
   "outputs": [
    {
     "name": "stdout",
     "output_type": "stream",
     "text": [
      "<class 'pandas.core.frame.DataFrame'>\n",
      "RangeIndex: 887379 entries, 0 to 887378\n",
      "Data columns (total 74 columns):\n",
      "id                             887379 non-null int64\n",
      "member_id                      887379 non-null int64\n",
      "loan_amnt                      887379 non-null float64\n",
      "funded_amnt                    887379 non-null float64\n",
      "funded_amnt_inv                887379 non-null float64\n",
      "term                           887379 non-null object\n",
      "int_rate                       887379 non-null float64\n",
      "installment                    887379 non-null float64\n",
      "grade                          887379 non-null object\n",
      "sub_grade                      887379 non-null object\n",
      "emp_title                      835917 non-null object\n",
      "emp_length                     842554 non-null object\n",
      "home_ownership                 887379 non-null object\n",
      "annual_inc                     887375 non-null float64\n",
      "verification_status            887379 non-null object\n",
      "issue_d                        887379 non-null object\n",
      "loan_status                    887379 non-null object\n",
      "pymnt_plan                     887379 non-null object\n",
      "url                            887379 non-null object\n",
      "desc                           126028 non-null object\n",
      "purpose                        887379 non-null object\n",
      "title                          887227 non-null object\n",
      "zip_code                       887379 non-null object\n",
      "addr_state                     887379 non-null object\n",
      "dti                            887379 non-null float64\n",
      "delinq_2yrs                    887350 non-null float64\n",
      "earliest_cr_line               887350 non-null object\n",
      "inq_last_6mths                 887350 non-null float64\n",
      "mths_since_last_delinq         433067 non-null float64\n",
      "mths_since_last_record         137053 non-null float64\n",
      "open_acc                       887350 non-null float64\n",
      "pub_rec                        887350 non-null float64\n",
      "revol_bal                      887379 non-null float64\n",
      "revol_util                     886877 non-null float64\n",
      "total_acc                      887350 non-null float64\n",
      "initial_list_status            887379 non-null object\n",
      "out_prncp                      887379 non-null float64\n",
      "out_prncp_inv                  887379 non-null float64\n",
      "total_pymnt                    887379 non-null float64\n",
      "total_pymnt_inv                887379 non-null float64\n",
      "total_rec_prncp                887379 non-null float64\n",
      "total_rec_int                  887379 non-null float64\n",
      "total_rec_late_fee             887379 non-null float64\n",
      "recoveries                     887379 non-null float64\n",
      "collection_recovery_fee        887379 non-null float64\n",
      "last_pymnt_d                   869720 non-null object\n",
      "last_pymnt_amnt                887379 non-null float64\n",
      "next_pymnt_d                   634408 non-null object\n",
      "last_credit_pull_d             887326 non-null object\n",
      "collections_12_mths_ex_med     887234 non-null float64\n",
      "mths_since_last_major_derog    221703 non-null float64\n",
      "policy_code                    887379 non-null float64\n",
      "application_type               887379 non-null object\n",
      "annual_inc_joint               511 non-null float64\n",
      "dti_joint                      509 non-null float64\n",
      "verification_status_joint      511 non-null object\n",
      "acc_now_delinq                 887350 non-null float64\n",
      "tot_coll_amt                   817103 non-null float64\n",
      "tot_cur_bal                    817103 non-null float64\n",
      "open_acc_6m                    21372 non-null float64\n",
      "open_il_6m                     21372 non-null float64\n",
      "open_il_12m                    21372 non-null float64\n",
      "open_il_24m                    21372 non-null float64\n",
      "mths_since_rcnt_il             20810 non-null float64\n",
      "total_bal_il                   21372 non-null float64\n",
      "il_util                        18617 non-null float64\n",
      "open_rv_12m                    21372 non-null float64\n",
      "open_rv_24m                    21372 non-null float64\n",
      "max_bal_bc                     21372 non-null float64\n",
      "all_util                       21372 non-null float64\n",
      "total_rev_hi_lim               817103 non-null float64\n",
      "inq_fi                         21372 non-null float64\n",
      "total_cu_tl                    21372 non-null float64\n",
      "inq_last_12m                   21372 non-null float64\n",
      "dtypes: float64(49), int64(2), object(23)\n",
      "memory usage: 501.0+ MB\n"
     ]
    }
   ],
   "source": [
    "df.info()"
   ]
  },
  {
   "cell_type": "code",
   "execution_count": 15,
   "metadata": {},
   "outputs": [],
   "source": [
    "to_drop = [\"id\", \"member_id\", \"url\"]\n",
    "to_drop.extend([\"addr_state\",\"zip_code\"])\n",
    "to_drop.append(\"desc\")\n",
    "to_drop.extend(['funded_amnt', 'funded_amnt_inv'])\n",
    "to_drop.extend(['total_pymnt', 'total_pymnt_inv', 'total_rec_int', 'total_rec_late_fee', \n",
    "                'total_rec_prncp','tot_coll_amt','total_rev_hi_lim', 'tot_cur_bal'])\n",
    "to_drop.extend(['mths_since_last_delinq', 'mths_since_last_record', 'mths_since_last_major_derog', 'collections_12_mths_ex_med'])\n",
    "to_drop.append('emp_title')\n",
    "to_drop.extend(['last_pymnt_d', 'last_pymnt_amnt'])\n",
    "to_drop.extend(['recoveries', 'collection_recovery_fee'])\n",
    "to_drop.append('last_credit_pull_d')\n",
    "to_drop.extend(['application_type', 'annual_inc_joint', 'dti_joint', 'verification_status_joint'])\n",
    "to_drop.extend(['open_acc_6m', 'open_il_6m', 'open_il_12m', 'open_il_24m',\n",
    "       'mths_since_rcnt_il', 'total_bal_il', 'il_util', 'open_rv_12m',\n",
    "       'open_rv_24m', 'max_bal_bc', 'all_util', 'inq_fi', 'total_cu_tl',\n",
    "       'inq_last_12m'])"
   ]
  },
  {
   "cell_type": "code",
   "execution_count": 16,
   "metadata": {},
   "outputs": [],
   "source": [
    "# df[\"loan_status\"].unique()\n",
    "def default_or_not(x):\n",
    "    if x == \"Charged Off\":\n",
    "        return 1\n",
    "    if x == \"Fully Paid\":\n",
    "        return 0\n",
    "    else:\n",
    "        return None\n",
    "    \n",
    "df[\"default\"] = df[\"loan_status\"].apply(default_or_not)\n",
    "df = df[df[\"default\"].notnull()]\n",
    "to_drop.append(\"loan_status\")"
   ]
  },
  {
   "cell_type": "code",
   "execution_count": 17,
   "metadata": {},
   "outputs": [],
   "source": [
    "# df[\"term\"].unique()\n",
    "df[\"long_term\"] = (df[\"term\"] == ' 60 months').apply(int)\n",
    "to_drop.append(\"term\")"
   ]
  },
  {
   "cell_type": "code",
   "execution_count": 18,
   "metadata": {},
   "outputs": [],
   "source": [
    "def emp_year(x):\n",
    "    try:\n",
    "        x = x.split()[0]\n",
    "    finally:\n",
    "        if x == '<':\n",
    "            return 0\n",
    "        if x == '10+':\n",
    "            return 10\n",
    "        else:\n",
    "            return int(x)\n",
    "        \n",
    "df = df[df[\"emp_length\"].notnull()]\n",
    "df[\"emp_year\"] = df[\"emp_length\"].apply(emp_year)\n",
    "to_drop.append(\"emp_length\")"
   ]
  },
  {
   "cell_type": "code",
   "execution_count": 19,
   "metadata": {},
   "outputs": [],
   "source": [
    "# single value variable\n",
    "for k in df.keys():\n",
    "    #print(k, len(df[k].unique()))\n",
    "    if len(df[k].unique()) == 1:\n",
    "        to_drop.append(k)"
   ]
  },
  {
   "cell_type": "code",
   "execution_count": 20,
   "metadata": {
    "scrolled": true
   },
   "outputs": [],
   "source": [
    "df = df.join(pandas.get_dummies(df['grade']))\n",
    "df = df.join(pandas.get_dummies(df['purpose']))\n",
    "df = df.join(pandas.get_dummies(df['verification_status']))\n",
    "df = df.join(pandas.get_dummies(df['initial_list_status']))\n",
    "\n",
    "to_drop.append(\"grade\")\n",
    "to_drop.append(\"sub_grade\")\n",
    "to_drop.append(\"purpose\")\n",
    "to_drop.append(\"title\")\n",
    "to_drop.append('verification_status')\n",
    "to_drop.append('initial_list_status')"
   ]
  },
  {
   "cell_type": "code",
   "execution_count": 21,
   "metadata": {},
   "outputs": [],
   "source": [
    "df.groupby('home_ownership').count()\n",
    "df['own_home'] = (df['home_ownership'] == \"OWN\").apply(int)\n",
    "to_drop.append('home_ownership')"
   ]
  },
  {
   "cell_type": "code",
   "execution_count": 22,
   "metadata": {},
   "outputs": [],
   "source": [
    "# Delete pymnt_plan\n",
    "df = df[df['pymnt_plan'] == 'n']\n",
    "to_drop.append('pymnt_plan')"
   ]
  },
  {
   "cell_type": "code",
   "execution_count": 23,
   "metadata": {},
   "outputs": [],
   "source": [
    "df['issue_d'].unique()\n",
    "df['year'] = df['issue_d'].apply(lambda x: int(x.split('-')[1]))\n",
    "to_drop.append('issue_d')"
   ]
  },
  {
   "cell_type": "code",
   "execution_count": 24,
   "metadata": {},
   "outputs": [],
   "source": [
    "df['earliest_cr_line'].unique()\n",
    "df['earliest_cr_year'] = df['earliest_cr_line'].apply(lambda x: int(x.split('-')[1]))\n",
    "to_drop.append('earliest_cr_line')"
   ]
  },
  {
   "cell_type": "code",
   "execution_count": 25,
   "metadata": {},
   "outputs": [
    {
     "name": "stdout",
     "output_type": "stream",
     "text": [
      "['id', 'member_id', 'url', 'addr_state', 'zip_code', 'desc', 'funded_amnt', 'funded_amnt_inv', 'total_pymnt', 'total_pymnt_inv', 'total_rec_int', 'total_rec_late_fee', 'total_rec_prncp', 'tot_coll_amt', 'total_rev_hi_lim', 'tot_cur_bal', 'mths_since_last_delinq', 'mths_since_last_record', 'mths_since_last_major_derog', 'collections_12_mths_ex_med', 'emp_title', 'last_pymnt_d', 'last_pymnt_amnt', 'recoveries', 'collection_recovery_fee', 'last_credit_pull_d', 'application_type', 'annual_inc_joint', 'dti_joint', 'verification_status_joint', 'open_acc_6m', 'open_il_6m', 'open_il_12m', 'open_il_24m', 'mths_since_rcnt_il', 'total_bal_il', 'il_util', 'open_rv_12m', 'open_rv_24m', 'max_bal_bc', 'all_util', 'inq_fi', 'total_cu_tl', 'inq_last_12m', 'loan_status', 'term', 'emp_length', 'out_prncp', 'out_prncp_inv', 'next_pymnt_d', 'policy_code', 'grade', 'sub_grade', 'purpose', 'title', 'verification_status', 'initial_list_status', 'home_ownership', 'pymnt_plan', 'issue_d', 'earliest_cr_line']\n"
     ]
    }
   ],
   "source": [
    "print(to_drop)\n",
    "df = df.drop(columns = to_drop, errors = 'ignore')\n",
    "df = df.dropna()"
   ]
  },
  {
   "cell_type": "code",
   "execution_count": 26,
   "metadata": {},
   "outputs": [
    {
     "name": "stdout",
     "output_type": "stream",
     "text": [
      "<class 'pandas.core.frame.DataFrame'>\n",
      "Int64Index: 242881 entries, 0 to 887369\n",
      "Data columns (total 45 columns):\n",
      "loan_amnt             242881 non-null float64\n",
      "int_rate              242881 non-null float64\n",
      "installment           242881 non-null float64\n",
      "annual_inc            242881 non-null float64\n",
      "dti                   242881 non-null float64\n",
      "delinq_2yrs           242881 non-null float64\n",
      "inq_last_6mths        242881 non-null float64\n",
      "open_acc              242881 non-null float64\n",
      "pub_rec               242881 non-null float64\n",
      "revol_bal             242881 non-null float64\n",
      "revol_util            242881 non-null float64\n",
      "total_acc             242881 non-null float64\n",
      "acc_now_delinq        242881 non-null float64\n",
      "default               242881 non-null float64\n",
      "long_term             242881 non-null int64\n",
      "emp_year              242881 non-null int64\n",
      "A                     242881 non-null uint8\n",
      "B                     242881 non-null uint8\n",
      "C                     242881 non-null uint8\n",
      "D                     242881 non-null uint8\n",
      "E                     242881 non-null uint8\n",
      "F                     242881 non-null uint8\n",
      "G                     242881 non-null uint8\n",
      "car                   242881 non-null uint8\n",
      "credit_card           242881 non-null uint8\n",
      "debt_consolidation    242881 non-null uint8\n",
      "educational           242881 non-null uint8\n",
      "home_improvement      242881 non-null uint8\n",
      "house                 242881 non-null uint8\n",
      "major_purchase        242881 non-null uint8\n",
      "medical               242881 non-null uint8\n",
      "moving                242881 non-null uint8\n",
      "other                 242881 non-null uint8\n",
      "renewable_energy      242881 non-null uint8\n",
      "small_business        242881 non-null uint8\n",
      "vacation              242881 non-null uint8\n",
      "wedding               242881 non-null uint8\n",
      "Not Verified          242881 non-null uint8\n",
      "Source Verified       242881 non-null uint8\n",
      "Verified              242881 non-null uint8\n",
      "f                     242881 non-null uint8\n",
      "w                     242881 non-null uint8\n",
      "own_home              242881 non-null int64\n",
      "year                  242881 non-null int64\n",
      "earliest_cr_year      242881 non-null int64\n",
      "dtypes: float64(14), int64(5), uint8(26)\n",
      "memory usage: 43.1 MB\n"
     ]
    }
   ],
   "source": [
    "df.info()"
   ]
  },
  {
   "cell_type": "code",
   "execution_count": 19,
   "metadata": {},
   "outputs": [],
   "source": [
    "# df.to_csv(\"loan_data_cleaned.csv\", sep='\\t', encoding='utf-8', index=None)"
   ]
  },
  {
   "cell_type": "code",
   "execution_count": 27,
   "metadata": {},
   "outputs": [],
   "source": [
    "# import pandas\n",
    "# df = pandas.read_csv(\"loan_data_cleaned.csv\", sep='\\t', encoding='utf-8', )"
   ]
  },
  {
   "cell_type": "markdown",
   "metadata": {},
   "source": [
    "<h2>Logistic Regression</h2>"
   ]
  },
  {
   "cell_type": "code",
   "execution_count": 28,
   "metadata": {},
   "outputs": [
    {
     "name": "stderr",
     "output_type": "stream",
     "text": [
      "/home/louis/projects/LC_data/.env/lib/python3.5/site-packages/sklearn/cross_validation.py:41: DeprecationWarning: This module was deprecated in version 0.18 in favor of the model_selection module into which all the refactored classes and functions are moved. Also note that the interface of the new CV iterators are different from that of this module. This module will be removed in 0.20.\n",
      "  \"This module will be removed in 0.20.\", DeprecationWarning)\n"
     ]
    },
    {
     "name": "stdout",
     "output_type": "stream",
     "text": [
      "Accuracy of logistic regression classifier on test set: 0.62\n"
     ]
    }
   ],
   "source": [
    "from sklearn.linear_model import LogisticRegression\n",
    "from sklearn.cross_validation import train_test_split\n",
    "\n",
    "X = df.drop(columns=['default', 'installment'])\n",
    "y = df['default']\n",
    "\n",
    "X_train, X_test, y_train, y_test = train_test_split(X, y, test_size=0.3, random_state=0)\n",
    "weight = y_train*4 + 1 \n",
    "\n",
    "logreg = LogisticRegression()\n",
    "# logreg.fit(X_train, y_train)\n",
    "logreg.fit(X_train, y_train, sample_weight=weight)\n",
    "\n",
    "y_pred = logreg.predict(X_test)\n",
    "print('Accuracy of logistic regression classifier on test set: {:.2f}'.format(logreg.score(X_test, y_test)))"
   ]
  },
  {
   "cell_type": "code",
   "execution_count": 29,
   "metadata": {},
   "outputs": [
    {
     "name": "stdout",
     "output_type": "stream",
     "text": [
      "[[35935 24087]\n",
      " [ 3937  8906]]\n"
     ]
    }
   ],
   "source": [
    "from sklearn.metrics import confusion_matrix\n",
    "matrix = confusion_matrix(y_test, y_pred)\n",
    "print(matrix)"
   ]
  },
  {
   "cell_type": "code",
   "execution_count": 30,
   "metadata": {},
   "outputs": [],
   "source": [
    "y_p = logreg.predict_proba(X_test)[:,1] > 0.01"
   ]
  },
  {
   "cell_type": "code",
   "execution_count": 31,
   "metadata": {},
   "outputs": [
    {
     "name": "stdout",
     "output_type": "stream",
     "text": [
      "[[   22 60000]\n",
      " [    0 12843]]\n"
     ]
    }
   ],
   "source": [
    "matrix = confusion_matrix(y_test, y_p)\n",
    "print(matrix)"
   ]
  },
  {
   "cell_type": "code",
   "execution_count": 32,
   "metadata": {},
   "outputs": [
    {
     "data": {
      "image/png": "[encoded data removed]",
      "text/plain": [
       "<matplotlib.figure.Figure at 0x7f040d9b09e8>"
      ]
     },
     "metadata": {},
     "output_type": "display_data"
    }
   ],
   "source": [
    "from sklearn.metrics import confusion_matrix, roc_curve, roc_auc_score, auc\n",
    "plt.style.use('ggplot')\n",
    "%matplotlib inline\n",
    "\n",
    "fpr, tpr,_=roc_curve(y_test, logreg.predict_proba(X_test)[:,1])\n",
    "roc_auc = auc(fpr, tpr)\n",
    "\n",
    "plt.figure()\n",
    "plt.plot(fpr, tpr, color='darkorange',\n",
    "         lw=2, label='ROC curve (area = %0.2f)' % roc_auc)\n",
    "plt.plot([0, 1], [0, 1], color='navy', lw=2, linestyle='--')\n",
    "plt.xlim([0.0, 1.0])\n",
    "plt.ylim([0.0, 1.05])\n",
    "plt.xlabel('False Positive Rate')\n",
    "plt.ylabel('True Positive Rate')\n",
    "plt.title('ROC Curve')\n",
    "plt.legend(loc=\"lower right\")\n",
    "plt.show()"
   ]
  },
  {
   "cell_type": "code",
   "execution_count": 33,
   "metadata": {},
   "outputs": [
    {
     "data": {
      "text/plain": [
       "<matplotlib.axes._subplots.AxesSubplot at 0x7f03d008cf60>"
      ]
     },
     "execution_count": 33,
     "metadata": {},
     "output_type": "execute_result"
    },
    {
     "data": {
      "image/png": "[encoded data removed]",
      "text/plain": [
       "<matplotlib.figure.Figure at 0x7f03d0087940>"
      ]
     },
     "metadata": {},
     "output_type": "display_data"
    }
   ],
   "source": [
    "import seaborn as sns\n",
    "sns.distplot(logreg.predict_proba(X_test)[:,1])"
   ]
  },
  {
   "cell_type": "markdown",
   "metadata": {},
   "source": [
    "<h2>Profit Prediction</h2>"
   ]
  },
  {
   "cell_type": "code",
   "execution_count": 40,
   "metadata": {},
   "outputs": [],
   "source": [
    "def profit_predict(X_test, y_test, y_pred, recovery_rate = 0):\n",
    "    pv = X_test[np.logical_not(y_pred)]['loan_amnt'].sum()\n",
    "    fv = sum(X_test[np.logical_and(np.logical_not(y_p), np.logical_not(y_test))]['loan_amnt'] * \n",
    "                    (X_test[np.logical_and(np.logical_not(y_p), np.logical_not(y_test))]['int_rate'] + 100)/100)\n",
    "    number = sum(np.logical_not(y_pred))\n",
    "#     print(number)\n",
    "    return fv / pv - 1"
   ]
  },
  {
   "cell_type": "code",
   "execution_count": 42,
   "metadata": {},
   "outputs": [
    {
     "data": {
      "text/plain": [
       "[<matplotlib.lines.Line2D at 0x7f03d5153518>]"
      ]
     },
     "execution_count": 42,
     "metadata": {},
     "output_type": "execute_result"
    },
    {
     "data": {
      "image/png": "[encoded data removed]",
      "text/plain": [
       "<matplotlib.figure.Figure at 0x7f03d2833c18>"
      ]
     },
     "metadata": {},
     "output_type": "display_data"
    }
   ],
   "source": [
    "import numpy as np\n",
    "profit = []\n",
    "for i in np.arange(0.02, 1, 0.01):\n",
    "    y_p = logreg.predict_proba(X_test)[:,1] > i\n",
    "#     print(i, profit_predict(X_test, y_test, y_p))\n",
    "    profit.append(profit_predict(X_test, y_test, y_p))\n",
    "plt.plot(profit)"
   ]
  },
  {
   "cell_type": "code",
   "execution_count": 36,
   "metadata": {},
   "outputs": [],
   "source": [
    "def profit_predict(X_test, y_test, y_pred, recovery_rate = 0):\n",
    "    pv = X_test[np.logical_not(y_pred)]['loan_amnt'].sum()\n",
    "    fv = sum(X_test[np.logical_and(np.logical_not(y_p), np.logical_not(y_test))]['loan_amnt'] * \n",
    "                    (X_test[np.logical_and(np.logical_not(y_p), np.logical_not(y_test))]['int_rate'] + 100)/100)\n",
    "    number = sum(np.logical_not(y_pred))\n",
    "    return fv / pv - 1 - 1 / (number+1)"
   ]
  },
  {
   "cell_type": "code",
   "execution_count": 39,
   "metadata": {},
   "outputs": [
    {
     "data": {
      "text/plain": [
       "[<matplotlib.lines.Line2D at 0x7f03cf4d0ef0>]"
      ]
     },
     "execution_count": 39,
     "metadata": {},
     "output_type": "execute_result"
    },
    {
     "data": {
      "image/png": "[encoded data removed]",
      "text/plain": [
       "<matplotlib.figure.Figure at 0x7f03d4a76860>"
      ]
     },
     "metadata": {},
     "output_type": "display_data"
    }
   ],
   "source": [
    "import numpy as np\n",
    "profit = []\n",
    "for i in np.arange(0.02, 1, 0.01):\n",
    "    y_p = logreg.predict_proba(X_test)[:,1] > i\n",
    "#     print(i, profit_predict(X_test, y_test, y_p))\n",
    "    profit.append(profit_predict(X_test, y_test, y_p))\n",
    "plt.plot(profit)"
   ]
  },
  {
   "cell_type": "markdown",
   "metadata": {},
   "source": [
    "<h2>Heat Map</h2>"
   ]
  },
  {
   "cell_type": "code",
   "execution_count": null,
   "metadata": {},
   "outputs": [],
   "source": [
    "def get_loc(zip_code):\n",
    "    import zipcode\n",
    "    short_code = zip_code.replace('x', '')\n",
    "    l = zipcode.islike(short_code)\n",
    "    if l:\n",
    "        location = l[0]\n",
    "        return (location.lon, location.lat)\n",
    "    else:\n",
    "        return (None, None)\n",
    "\n",
    "from tqdm import tqdm\n",
    "tqdm.pandas(desc=\"Pandas progress\")\n",
    "df[\"lon\"] = df[\"zip_code\"].progress_apply(lambda x: get_loc(x)[0])\n",
    "df[\"lat\"] = df[\"zip_code\"].progress_apply(lambda x: get_loc(x)[1])\n",
    "\n",
    "import gmplot\n",
    "df2 = df[df[\"lon\"].notnull()]\n",
    "gmap = gmplot.GoogleMapPlotter.from_geocode(\"The United State\",4)\n",
    "gmap.heatmap(df2['lat'], df2['lon'])\n",
    "gmap.draw('heat_map.html')"
   ]
  },
  {
   "cell_type": "code",
   "execution_count": null,
   "metadata": {},
   "outputs": [],
   "source": [
    "df.groupby(\"loan_status\").size().plot.bar()"
   ]
  },
  {
   "cell_type": "code",
   "execution_count": null,
   "metadata": {},
   "outputs": [],
   "source": [
    "df[\"annual_inc\"].plot.density(logx = True)"
   ]
  },
  {
   "cell_type": "code",
   "execution_count": null,
   "metadata": {},
   "outputs": [],
   "source": [
    "df[\"annual_inc\"].describe()"
   ]
  },
  {
   "cell_type": "code",
   "execution_count": null,
   "metadata": {},
   "outputs": [],
   "source": [
    "df.iloc[3]"
   ]
  },
  {
   "cell_type": "code",
   "execution_count": null,
   "metadata": {},
   "outputs": [],
   "source": [
    "df.groupby(\"purpose\").size().plot.bar()"
   ]
  },
  {
   "cell_type": "code",
   "execution_count": null,
   "metadata": {},
   "outputs": [],
   "source": [
    "df['dti'].plot.density()"
   ]
  },
  {
   "cell_type": "code",
   "execution_count": null,
   "metadata": {},
   "outputs": [],
   "source": [
    "df[\"verification_status\"].unique()"
   ]
  },
  {
   "cell_type": "code",
   "execution_count": null,
   "metadata": {},
   "outputs": [],
   "source": [
    "df[df[\"annual_inc\"] > 1000000]"
   ]
  },
  {
   "cell_type": "code",
   "execution_count": null,
   "metadata": {},
   "outputs": [],
   "source": [
    "df.groupby(\"loan_status\")[\"int_rate\"].mean().plot.bar()"
   ]
  },
  {
   "cell_type": "code",
   "execution_count": null,
   "metadata": {},
   "outputs": [],
   "source": [
    "df.groupby((\"term\",\"loan_status\")).size().plot.bar()"
   ]
  },
  {
   "cell_type": "code",
   "execution_count": null,
   "metadata": {},
   "outputs": [],
   "source": [
    "df[\"emp_title\"].unique()"
   ]
  }
 ],
 "metadata": {
  "kernelspec": {
   "display_name": "Python 3",
   "language": "python",
   "name": "python3"
  },
  "language_info": {
   "codemirror_mode": {
    "name": "ipython",
    "version": 3
   },
   "file_extension": ".py",
   "mimetype": "text/x-python",
   "name": "python",
   "nbconvert_exporter": "python",
   "pygments_lexer": "ipython3",
   "version": "3.5.2"
  }
 },
 "nbformat": 4,
 "nbformat_minor": 2
}
