{
 "cells": [
  {
   "cell_type": "code",
<<<<<<< HEAD
   "execution_count": 6,
   "metadata": {},
   "outputs": [],
=======
   "execution_count": 23,
   "metadata": {},
   "outputs": [
    {
     "name": "stdout",
     "output_type": "stream",
     "text": [
      "Collecting seaborn\n",
      "Requirement already satisfied: scipy in ./.env/lib/python3.5/site-packages (from seaborn)\n",
      "Requirement already satisfied: numpy>=1.8.2 in ./.env/lib/python3.5/site-packages (from scipy->seaborn)\n",
      "Installing collected packages: seaborn\n",
      "Successfully installed seaborn-0.8.1\n"
     ]
    }
   ],
>>>>>>> 1c58213a9d0782a5bfc2ec03fefa778cad8e5851
   "source": [
    "# !pip install pandas\n",
    "# !pip install matplotlib\n",
    "# !pip install scipy\n",
    "# !pip install vincent\n",
    "# !pip install zipcode\n",
    "# !pip install tqdm\n",
    "# !pip install gmplot\n",
    "# !pip install sklearn\n",
<<<<<<< HEAD
    "# !pip install seaborn\n",
    "# !pip install tensorflow-gpu"
=======
    "!pip install seaborn"
>>>>>>> 1c58213a9d0782a5bfc2ec03fefa778cad8e5851
   ]
  },
  {
   "cell_type": "code",
<<<<<<< HEAD
   "execution_count": 7,
=======
   "execution_count": 2,
>>>>>>> 1c58213a9d0782a5bfc2ec03fefa778cad8e5851
   "metadata": {},
   "outputs": [
    {
     "name": "stderr",
     "output_type": "stream",
     "text": [
      "/home/louis/projects/LC_data/.env/lib/python3.5/site-packages/IPython/core/interactiveshell.py:2728: DtypeWarning: Columns (19,55) have mixed types. Specify dtype option on import or set low_memory=False.\n",
      "  interactivity=interactivity, compiler=compiler, result=result)\n"
     ]
    }
   ],
   "source": [
    "import pandas\n",
    "df = pandas.read_csv(\"loan.csv\")"
   ]
  },
  {
   "cell_type": "code",
<<<<<<< HEAD
   "execution_count": 8,
=======
   "execution_count": 3,
>>>>>>> 1c58213a9d0782a5bfc2ec03fefa778cad8e5851
   "metadata": {},
   "outputs": [
    {
     "data": {
      "text/plain": [
       "loan_status\n",
       "Charged Off                                             45248\n",
       "Current                                                601779\n",
       "Default                                                  1219\n",
       "Does not meet the credit policy. Status:Charged Off       761\n",
       "Does not meet the credit policy. Status:Fully Paid       1988\n",
       "Fully Paid                                             207723\n",
       "In Grace Period                                          6253\n",
       "Issued                                                   8460\n",
       "Late (16-30 days)                                        2357\n",
       "Late (31-120 days)                                      11591\n",
       "dtype: int64"
      ]
     },
<<<<<<< HEAD
     "execution_count": 8,
=======
     "execution_count": 3,
>>>>>>> 1c58213a9d0782a5bfc2ec03fefa778cad8e5851
     "metadata": {},
     "output_type": "execute_result"
    }
   ],
   "source": [
    "%matplotlib inline\n",
    "import matplotlib.pyplot as plt\n",
    "df.groupby(\"loan_status\").size()"
   ]
  },
  {
   "cell_type": "code",
<<<<<<< HEAD
   "execution_count": null,
   "metadata": {},
   "outputs": [],
   "source": [
    "# df = df.iloc[1:100000]"
=======
   "execution_count": 4,
   "metadata": {},
   "outputs": [],
   "source": [
    "df = df.iloc[1:100000]"
>>>>>>> 1c58213a9d0782a5bfc2ec03fefa778cad8e5851
   ]
  },
  {
   "cell_type": "code",
   "execution_count": 5,
   "metadata": {
    "scrolled": true
   },
   "outputs": [
    {
     "name": "stdout",
     "output_type": "stream",
     "text": [
      "<class 'pandas.core.frame.DataFrame'>\n",
<<<<<<< HEAD
      "RangeIndex: 887379 entries, 0 to 887378\n",
      "Data columns (total 74 columns):\n",
      "id                             887379 non-null int64\n",
      "member_id                      887379 non-null int64\n",
      "loan_amnt                      887379 non-null float64\n",
      "funded_amnt                    887379 non-null float64\n",
      "funded_amnt_inv                887379 non-null float64\n",
      "term                           887379 non-null object\n",
      "int_rate                       887379 non-null float64\n",
      "installment                    887379 non-null float64\n",
      "grade                          887379 non-null object\n",
      "sub_grade                      887379 non-null object\n",
      "emp_title                      835917 non-null object\n",
      "emp_length                     842554 non-null object\n",
      "home_ownership                 887379 non-null object\n",
      "annual_inc                     887375 non-null float64\n",
      "verification_status            887379 non-null object\n",
      "issue_d                        887379 non-null object\n",
      "loan_status                    887379 non-null object\n",
      "pymnt_plan                     887379 non-null object\n",
      "url                            887379 non-null object\n",
      "desc                           126028 non-null object\n",
      "purpose                        887379 non-null object\n",
      "title                          887227 non-null object\n",
      "zip_code                       887379 non-null object\n",
      "addr_state                     887379 non-null object\n",
      "dti                            887379 non-null float64\n",
      "delinq_2yrs                    887350 non-null float64\n",
      "earliest_cr_line               887350 non-null object\n",
      "inq_last_6mths                 887350 non-null float64\n",
      "mths_since_last_delinq         433067 non-null float64\n",
      "mths_since_last_record         137053 non-null float64\n",
      "open_acc                       887350 non-null float64\n",
      "pub_rec                        887350 non-null float64\n",
      "revol_bal                      887379 non-null float64\n",
      "revol_util                     886877 non-null float64\n",
      "total_acc                      887350 non-null float64\n",
      "initial_list_status            887379 non-null object\n",
      "out_prncp                      887379 non-null float64\n",
      "out_prncp_inv                  887379 non-null float64\n",
      "total_pymnt                    887379 non-null float64\n",
      "total_pymnt_inv                887379 non-null float64\n",
      "total_rec_prncp                887379 non-null float64\n",
      "total_rec_int                  887379 non-null float64\n",
      "total_rec_late_fee             887379 non-null float64\n",
      "recoveries                     887379 non-null float64\n",
      "collection_recovery_fee        887379 non-null float64\n",
      "last_pymnt_d                   869720 non-null object\n",
      "last_pymnt_amnt                887379 non-null float64\n",
      "next_pymnt_d                   634408 non-null object\n",
      "last_credit_pull_d             887326 non-null object\n",
      "collections_12_mths_ex_med     887234 non-null float64\n",
      "mths_since_last_major_derog    221703 non-null float64\n",
      "policy_code                    887379 non-null float64\n",
      "application_type               887379 non-null object\n",
      "annual_inc_joint               511 non-null float64\n",
      "dti_joint                      509 non-null float64\n",
      "verification_status_joint      511 non-null object\n",
      "acc_now_delinq                 887350 non-null float64\n",
      "tot_coll_amt                   817103 non-null float64\n",
      "tot_cur_bal                    817103 non-null float64\n",
      "open_acc_6m                    21372 non-null float64\n",
      "open_il_6m                     21372 non-null float64\n",
      "open_il_12m                    21372 non-null float64\n",
      "open_il_24m                    21372 non-null float64\n",
      "mths_since_rcnt_il             20810 non-null float64\n",
      "total_bal_il                   21372 non-null float64\n",
      "il_util                        18617 non-null float64\n",
      "open_rv_12m                    21372 non-null float64\n",
      "open_rv_24m                    21372 non-null float64\n",
      "max_bal_bc                     21372 non-null float64\n",
      "all_util                       21372 non-null float64\n",
      "total_rev_hi_lim               817103 non-null float64\n",
      "inq_fi                         21372 non-null float64\n",
      "total_cu_tl                    21372 non-null float64\n",
      "inq_last_12m                   21372 non-null float64\n",
      "dtypes: float64(49), int64(2), object(23)\n",
      "memory usage: 501.0+ MB\n"
=======
      "RangeIndex: 99999 entries, 1 to 99999\n",
      "Data columns (total 74 columns):\n",
      "id                             99999 non-null int64\n",
      "member_id                      99999 non-null int64\n",
      "loan_amnt                      99999 non-null float64\n",
      "funded_amnt                    99999 non-null float64\n",
      "funded_amnt_inv                99999 non-null float64\n",
      "term                           99999 non-null object\n",
      "int_rate                       99999 non-null float64\n",
      "installment                    99999 non-null float64\n",
      "grade                          99999 non-null object\n",
      "sub_grade                      99999 non-null object\n",
      "emp_title                      93648 non-null object\n",
      "emp_length                     96253 non-null object\n",
      "home_ownership                 99999 non-null object\n",
      "annual_inc                     99995 non-null float64\n",
      "verification_status            99999 non-null object\n",
      "issue_d                        99999 non-null object\n",
      "loan_status                    99999 non-null object\n",
      "pymnt_plan                     99999 non-null object\n",
      "url                            99999 non-null object\n",
      "desc                           47043 non-null object\n",
      "purpose                        99999 non-null object\n",
      "title                          99984 non-null object\n",
      "zip_code                       99999 non-null object\n",
      "addr_state                     99999 non-null object\n",
      "dti                            99999 non-null float64\n",
      "delinq_2yrs                    99970 non-null float64\n",
      "earliest_cr_line               99970 non-null object\n",
      "inq_last_6mths                 99970 non-null float64\n",
      "mths_since_last_delinq         41922 non-null float64\n",
      "mths_since_last_record         10851 non-null float64\n",
      "open_acc                       99970 non-null float64\n",
      "pub_rec                        99970 non-null float64\n",
      "revol_bal                      99999 non-null float64\n",
      "revol_util                     99873 non-null float64\n",
      "total_acc                      99970 non-null float64\n",
      "initial_list_status            99999 non-null object\n",
      "out_prncp                      99999 non-null float64\n",
      "out_prncp_inv                  99999 non-null float64\n",
      "total_pymnt                    99999 non-null float64\n",
      "total_pymnt_inv                99999 non-null float64\n",
      "total_rec_prncp                99999 non-null float64\n",
      "total_rec_int                  99999 non-null float64\n",
      "total_rec_late_fee             99999 non-null float64\n",
      "recoveries                     99999 non-null float64\n",
      "collection_recovery_fee        99999 non-null float64\n",
      "last_pymnt_d                   99876 non-null object\n",
      "last_pymnt_amnt                99999 non-null float64\n",
      "next_pymnt_d                   35639 non-null object\n",
      "last_credit_pull_d             99984 non-null object\n",
      "collections_12_mths_ex_med     99854 non-null float64\n",
      "mths_since_last_major_derog    12309 non-null float64\n",
      "policy_code                    99999 non-null float64\n",
      "application_type               99999 non-null object\n",
      "annual_inc_joint               0 non-null float64\n",
      "dti_joint                      0 non-null float64\n",
      "verification_status_joint      0 non-null object\n",
      "acc_now_delinq                 99970 non-null float64\n",
      "tot_coll_amt                   57465 non-null float64\n",
      "tot_cur_bal                    57465 non-null float64\n",
      "open_acc_6m                    0 non-null float64\n",
      "open_il_6m                     0 non-null float64\n",
      "open_il_12m                    0 non-null float64\n",
      "open_il_24m                    0 non-null float64\n",
      "mths_since_rcnt_il             0 non-null float64\n",
      "total_bal_il                   0 non-null float64\n",
      "il_util                        0 non-null float64\n",
      "open_rv_12m                    0 non-null float64\n",
      "open_rv_24m                    0 non-null float64\n",
      "max_bal_bc                     0 non-null float64\n",
      "all_util                       0 non-null float64\n",
      "total_rev_hi_lim               57465 non-null float64\n",
      "inq_fi                         0 non-null float64\n",
      "total_cu_tl                    0 non-null float64\n",
      "inq_last_12m                   0 non-null float64\n",
      "dtypes: float64(49), int64(2), object(23)\n",
      "memory usage: 56.5+ MB\n"
>>>>>>> 1c58213a9d0782a5bfc2ec03fefa778cad8e5851
     ]
    }
   ],
   "source": [
    "df.info()"
   ]
  },
  {
   "cell_type": "code",
<<<<<<< HEAD
   "execution_count": 6,
=======
   "execution_count": 52,
>>>>>>> 1c58213a9d0782a5bfc2ec03fefa778cad8e5851
   "metadata": {},
   "outputs": [],
   "source": [
    "to_drop = [\"id\", \"member_id\", \"url\"]\n",
    "to_drop.extend([\"addr_state\",\"zip_code\"])\n",
    "to_drop.append(\"desc\")\n",
    "to_drop.extend(['funded_amnt', 'funded_amnt_inv'])\n",
    "to_drop.extend(['total_pymnt', 'total_pymnt_inv', 'total_rec_int', 'total_rec_late_fee', \n",
    "                'total_rec_prncp','tot_coll_amt','total_rev_hi_lim', 'tot_cur_bal'])\n",
    "to_drop.extend(['mths_since_last_delinq', 'mths_since_last_record', 'mths_since_last_major_derog', 'collections_12_mths_ex_med'])\n",
    "to_drop.append('emp_title')\n",
    "to_drop.extend(['last_pymnt_d', 'last_pymnt_amnt'])\n",
    "to_drop.extend(['recoveries', 'collection_recovery_fee'])\n",
<<<<<<< HEAD
    "to_drop.append('last_credit_pull_d')\n",
    "to_drop.extend(['application_type', 'annual_inc_joint', 'dti_joint', 'verification_status_joint'])\n",
    "to_drop.extend(['open_acc_6m', 'open_il_6m', 'open_il_12m', 'open_il_24m',\n",
    "       'mths_since_rcnt_il', 'total_bal_il', 'il_util', 'open_rv_12m',\n",
    "       'open_rv_24m', 'max_bal_bc', 'all_util', 'inq_fi', 'total_cu_tl',\n",
    "       'inq_last_12m'])"
=======
    "to_drop.append('last_credit_pull_d')"
>>>>>>> 1c58213a9d0782a5bfc2ec03fefa778cad8e5851
   ]
  },
  {
   "cell_type": "code",
   "execution_count": 7,
   "metadata": {},
   "outputs": [],
   "source": [
    "# df[\"loan_status\"].unique()\n",
    "def default_or_not(x):\n",
    "    if x == \"Charged Off\":\n",
    "        return 1\n",
    "    if x == \"Fully Paid\":\n",
    "        return 0\n",
    "    else:\n",
    "        return None\n",
    "    \n",
    "df[\"default\"] = df[\"loan_status\"].apply(default_or_not)\n",
    "df = df[df[\"default\"].notnull()]\n",
    "to_drop.append(\"loan_status\")"
   ]
  },
  {
   "cell_type": "code",
   "execution_count": 8,
   "metadata": {},
   "outputs": [],
   "source": [
    "# df[\"term\"].unique()\n",
    "df[\"long_term\"] = (df[\"term\"] == ' 60 months').apply(int)\n",
    "to_drop.append(\"term\")"
   ]
  },
  {
   "cell_type": "code",
   "execution_count": 9,
   "metadata": {},
   "outputs": [],
   "source": [
    "def emp_year(x):\n",
    "    try:\n",
    "        x = x.split()[0]\n",
    "    finally:\n",
    "        if x == '<':\n",
    "            return 0\n",
    "        if x == '10+':\n",
    "            return 10\n",
    "        else:\n",
    "            return int(x)\n",
    "        \n",
    "df = df[df[\"emp_length\"].notnull()]\n",
    "df[\"emp_year\"] = df[\"emp_length\"].apply(emp_year)\n",
    "to_drop.append(\"emp_length\")"
   ]
  },
  {
   "cell_type": "code",
   "execution_count": 10,
   "metadata": {},
   "outputs": [],
   "source": [
    "# single value variable\n",
    "for k in df.keys():\n",
    "    #print(k, len(df[k].unique()))\n",
    "    if len(df[k].unique()) == 1:\n",
    "        to_drop.append(k)"
   ]
  },
  {
   "cell_type": "code",
   "execution_count": 11,
   "metadata": {
    "scrolled": true
   },
   "outputs": [],
   "source": [
    "df = df.join(pandas.get_dummies(df['grade']))\n",
    "df = df.join(pandas.get_dummies(df['purpose']))\n",
    "df = df.join(pandas.get_dummies(df['verification_status']))\n",
    "df = df.join(pandas.get_dummies(df['initial_list_status']))\n",
    "\n",
    "to_drop.append(\"grade\")\n",
    "to_drop.append(\"sub_grade\")\n",
    "to_drop.append(\"purpose\")\n",
    "to_drop.append(\"title\")\n",
    "to_drop.append('verification_status')\n",
    "to_drop.append('initial_list_status')"
   ]
  },
  {
   "cell_type": "code",
   "execution_count": 12,
   "metadata": {},
   "outputs": [],
   "source": [
    "df.groupby('home_ownership').count()\n",
    "df['own_home'] = (df['home_ownership'] == \"OWN\").apply(int)\n",
    "to_drop.append('home_ownership')"
   ]
  },
  {
   "cell_type": "code",
   "execution_count": 13,
   "metadata": {},
   "outputs": [],
   "source": [
    "# Delete pymnt_plan\n",
    "df = df[df['pymnt_plan'] == 'n']\n",
    "to_drop.append('pymnt_plan')"
   ]
  },
  {
   "cell_type": "code",
   "execution_count": 14,
   "metadata": {},
   "outputs": [],
   "source": [
    "df['issue_d'].unique()\n",
    "df['year'] = df['issue_d'].apply(lambda x: int(x.split('-')[1]))\n",
    "to_drop.append('issue_d')"
   ]
  },
  {
   "cell_type": "code",
<<<<<<< HEAD
   "execution_count": 15,
   "metadata": {},
   "outputs": [],
=======
   "execution_count": 53,
   "metadata": {},
   "outputs": [
    {
     "ename": "KeyError",
     "evalue": "'earliest_cr_line'",
     "output_type": "error",
     "traceback": [
      "\u001b[0;31m---------------------------------------------------------------------------\u001b[0m",
      "\u001b[0;31mKeyError\u001b[0m                                  Traceback (most recent call last)",
      "\u001b[0;32m~/projects/LC_data/.env/lib/python3.5/site-packages/pandas/core/indexes/base.py\u001b[0m in \u001b[0;36mget_loc\u001b[0;34m(self, key, method, tolerance)\u001b[0m\n\u001b[1;32m   2521\u001b[0m             \u001b[0;32mtry\u001b[0m\u001b[0;34m:\u001b[0m\u001b[0;34m\u001b[0m\u001b[0m\n\u001b[0;32m-> 2522\u001b[0;31m                 \u001b[0;32mreturn\u001b[0m \u001b[0mself\u001b[0m\u001b[0;34m.\u001b[0m\u001b[0m_engine\u001b[0m\u001b[0;34m.\u001b[0m\u001b[0mget_loc\u001b[0m\u001b[0;34m(\u001b[0m\u001b[0mkey\u001b[0m\u001b[0;34m)\u001b[0m\u001b[0;34m\u001b[0m\u001b[0m\n\u001b[0m\u001b[1;32m   2523\u001b[0m             \u001b[0;32mexcept\u001b[0m \u001b[0mKeyError\u001b[0m\u001b[0;34m:\u001b[0m\u001b[0;34m\u001b[0m\u001b[0m\n",
      "\u001b[0;32mpandas/_libs/index.pyx\u001b[0m in \u001b[0;36mpandas._libs.index.IndexEngine.get_loc\u001b[0;34m()\u001b[0m\n",
      "\u001b[0;32mpandas/_libs/index.pyx\u001b[0m in \u001b[0;36mpandas._libs.index.IndexEngine.get_loc\u001b[0;34m()\u001b[0m\n",
      "\u001b[0;32mpandas/_libs/hashtable_class_helper.pxi\u001b[0m in \u001b[0;36mpandas._libs.hashtable.PyObjectHashTable.get_item\u001b[0;34m()\u001b[0m\n",
      "\u001b[0;32mpandas/_libs/hashtable_class_helper.pxi\u001b[0m in \u001b[0;36mpandas._libs.hashtable.PyObjectHashTable.get_item\u001b[0;34m()\u001b[0m\n",
      "\u001b[0;31mKeyError\u001b[0m: 'earliest_cr_line'",
      "\nDuring handling of the above exception, another exception occurred:\n",
      "\u001b[0;31mKeyError\u001b[0m                                  Traceback (most recent call last)",
      "\u001b[0;32m<ipython-input-53-ba5f20bcb8da>\u001b[0m in \u001b[0;36m<module>\u001b[0;34m()\u001b[0m\n\u001b[0;32m----> 1\u001b[0;31m \u001b[0mdf\u001b[0m\u001b[0;34m[\u001b[0m\u001b[0;34m'earliest_cr_line'\u001b[0m\u001b[0;34m]\u001b[0m\u001b[0;34m.\u001b[0m\u001b[0munique\u001b[0m\u001b[0;34m(\u001b[0m\u001b[0;34m)\u001b[0m\u001b[0;34m\u001b[0m\u001b[0m\n\u001b[0m\u001b[1;32m      2\u001b[0m \u001b[0mdf\u001b[0m\u001b[0;34m[\u001b[0m\u001b[0;34m'earliest_cr_year'\u001b[0m\u001b[0;34m]\u001b[0m \u001b[0;34m=\u001b[0m \u001b[0mdf\u001b[0m\u001b[0;34m[\u001b[0m\u001b[0;34m'earliest_cr_line'\u001b[0m\u001b[0;34m]\u001b[0m\u001b[0;34m.\u001b[0m\u001b[0mapply\u001b[0m\u001b[0;34m(\u001b[0m\u001b[0;32mlambda\u001b[0m \u001b[0mx\u001b[0m\u001b[0;34m:\u001b[0m \u001b[0mint\u001b[0m\u001b[0;34m(\u001b[0m\u001b[0mx\u001b[0m\u001b[0;34m.\u001b[0m\u001b[0msplit\u001b[0m\u001b[0;34m(\u001b[0m\u001b[0;34m'-'\u001b[0m\u001b[0;34m)\u001b[0m\u001b[0;34m[\u001b[0m\u001b[0;36m1\u001b[0m\u001b[0;34m]\u001b[0m\u001b[0;34m)\u001b[0m\u001b[0;34m)\u001b[0m\u001b[0;34m\u001b[0m\u001b[0m\n\u001b[1;32m      3\u001b[0m \u001b[0mto_drop\u001b[0m\u001b[0;34m.\u001b[0m\u001b[0mappend\u001b[0m\u001b[0;34m(\u001b[0m\u001b[0;34m'earliest_cr_line'\u001b[0m\u001b[0;34m)\u001b[0m\u001b[0;34m\u001b[0m\u001b[0m\n",
      "\u001b[0;32m~/projects/LC_data/.env/lib/python3.5/site-packages/pandas/core/frame.py\u001b[0m in \u001b[0;36m__getitem__\u001b[0;34m(self, key)\u001b[0m\n\u001b[1;32m   2137\u001b[0m             \u001b[0;32mreturn\u001b[0m \u001b[0mself\u001b[0m\u001b[0;34m.\u001b[0m\u001b[0m_getitem_multilevel\u001b[0m\u001b[0;34m(\u001b[0m\u001b[0mkey\u001b[0m\u001b[0;34m)\u001b[0m\u001b[0;34m\u001b[0m\u001b[0m\n\u001b[1;32m   2138\u001b[0m         \u001b[0;32melse\u001b[0m\u001b[0;34m:\u001b[0m\u001b[0;34m\u001b[0m\u001b[0m\n\u001b[0;32m-> 2139\u001b[0;31m             \u001b[0;32mreturn\u001b[0m \u001b[0mself\u001b[0m\u001b[0;34m.\u001b[0m\u001b[0m_getitem_column\u001b[0m\u001b[0;34m(\u001b[0m\u001b[0mkey\u001b[0m\u001b[0;34m)\u001b[0m\u001b[0;34m\u001b[0m\u001b[0m\n\u001b[0m\u001b[1;32m   2140\u001b[0m \u001b[0;34m\u001b[0m\u001b[0m\n\u001b[1;32m   2141\u001b[0m     \u001b[0;32mdef\u001b[0m \u001b[0m_getitem_column\u001b[0m\u001b[0;34m(\u001b[0m\u001b[0mself\u001b[0m\u001b[0;34m,\u001b[0m \u001b[0mkey\u001b[0m\u001b[0;34m)\u001b[0m\u001b[0;34m:\u001b[0m\u001b[0;34m\u001b[0m\u001b[0m\n",
      "\u001b[0;32m~/projects/LC_data/.env/lib/python3.5/site-packages/pandas/core/frame.py\u001b[0m in \u001b[0;36m_getitem_column\u001b[0;34m(self, key)\u001b[0m\n\u001b[1;32m   2144\u001b[0m         \u001b[0;31m# get column\u001b[0m\u001b[0;34m\u001b[0m\u001b[0;34m\u001b[0m\u001b[0m\n\u001b[1;32m   2145\u001b[0m         \u001b[0;32mif\u001b[0m \u001b[0mself\u001b[0m\u001b[0;34m.\u001b[0m\u001b[0mcolumns\u001b[0m\u001b[0;34m.\u001b[0m\u001b[0mis_unique\u001b[0m\u001b[0;34m:\u001b[0m\u001b[0;34m\u001b[0m\u001b[0m\n\u001b[0;32m-> 2146\u001b[0;31m             \u001b[0;32mreturn\u001b[0m \u001b[0mself\u001b[0m\u001b[0;34m.\u001b[0m\u001b[0m_get_item_cache\u001b[0m\u001b[0;34m(\u001b[0m\u001b[0mkey\u001b[0m\u001b[0;34m)\u001b[0m\u001b[0;34m\u001b[0m\u001b[0m\n\u001b[0m\u001b[1;32m   2147\u001b[0m \u001b[0;34m\u001b[0m\u001b[0m\n\u001b[1;32m   2148\u001b[0m         \u001b[0;31m# duplicate columns & possible reduce dimensionality\u001b[0m\u001b[0;34m\u001b[0m\u001b[0;34m\u001b[0m\u001b[0m\n",
      "\u001b[0;32m~/projects/LC_data/.env/lib/python3.5/site-packages/pandas/core/generic.py\u001b[0m in \u001b[0;36m_get_item_cache\u001b[0;34m(self, item)\u001b[0m\n\u001b[1;32m   1840\u001b[0m         \u001b[0mres\u001b[0m \u001b[0;34m=\u001b[0m \u001b[0mcache\u001b[0m\u001b[0;34m.\u001b[0m\u001b[0mget\u001b[0m\u001b[0;34m(\u001b[0m\u001b[0mitem\u001b[0m\u001b[0;34m)\u001b[0m\u001b[0;34m\u001b[0m\u001b[0m\n\u001b[1;32m   1841\u001b[0m         \u001b[0;32mif\u001b[0m \u001b[0mres\u001b[0m \u001b[0;32mis\u001b[0m \u001b[0;32mNone\u001b[0m\u001b[0;34m:\u001b[0m\u001b[0;34m\u001b[0m\u001b[0m\n\u001b[0;32m-> 1842\u001b[0;31m             \u001b[0mvalues\u001b[0m \u001b[0;34m=\u001b[0m \u001b[0mself\u001b[0m\u001b[0;34m.\u001b[0m\u001b[0m_data\u001b[0m\u001b[0;34m.\u001b[0m\u001b[0mget\u001b[0m\u001b[0;34m(\u001b[0m\u001b[0mitem\u001b[0m\u001b[0;34m)\u001b[0m\u001b[0;34m\u001b[0m\u001b[0m\n\u001b[0m\u001b[1;32m   1843\u001b[0m             \u001b[0mres\u001b[0m \u001b[0;34m=\u001b[0m \u001b[0mself\u001b[0m\u001b[0;34m.\u001b[0m\u001b[0m_box_item_values\u001b[0m\u001b[0;34m(\u001b[0m\u001b[0mitem\u001b[0m\u001b[0;34m,\u001b[0m \u001b[0mvalues\u001b[0m\u001b[0;34m)\u001b[0m\u001b[0;34m\u001b[0m\u001b[0m\n\u001b[1;32m   1844\u001b[0m             \u001b[0mcache\u001b[0m\u001b[0;34m[\u001b[0m\u001b[0mitem\u001b[0m\u001b[0;34m]\u001b[0m \u001b[0;34m=\u001b[0m \u001b[0mres\u001b[0m\u001b[0;34m\u001b[0m\u001b[0m\n",
      "\u001b[0;32m~/projects/LC_data/.env/lib/python3.5/site-packages/pandas/core/internals.py\u001b[0m in \u001b[0;36mget\u001b[0;34m(self, item, fastpath)\u001b[0m\n\u001b[1;32m   3836\u001b[0m \u001b[0;34m\u001b[0m\u001b[0m\n\u001b[1;32m   3837\u001b[0m             \u001b[0;32mif\u001b[0m \u001b[0;32mnot\u001b[0m \u001b[0misna\u001b[0m\u001b[0;34m(\u001b[0m\u001b[0mitem\u001b[0m\u001b[0;34m)\u001b[0m\u001b[0;34m:\u001b[0m\u001b[0;34m\u001b[0m\u001b[0m\n\u001b[0;32m-> 3838\u001b[0;31m                 \u001b[0mloc\u001b[0m \u001b[0;34m=\u001b[0m \u001b[0mself\u001b[0m\u001b[0;34m.\u001b[0m\u001b[0mitems\u001b[0m\u001b[0;34m.\u001b[0m\u001b[0mget_loc\u001b[0m\u001b[0;34m(\u001b[0m\u001b[0mitem\u001b[0m\u001b[0;34m)\u001b[0m\u001b[0;34m\u001b[0m\u001b[0m\n\u001b[0m\u001b[1;32m   3839\u001b[0m             \u001b[0;32melse\u001b[0m\u001b[0;34m:\u001b[0m\u001b[0;34m\u001b[0m\u001b[0m\n\u001b[1;32m   3840\u001b[0m                 \u001b[0mindexer\u001b[0m \u001b[0;34m=\u001b[0m \u001b[0mnp\u001b[0m\u001b[0;34m.\u001b[0m\u001b[0marange\u001b[0m\u001b[0;34m(\u001b[0m\u001b[0mlen\u001b[0m\u001b[0;34m(\u001b[0m\u001b[0mself\u001b[0m\u001b[0;34m.\u001b[0m\u001b[0mitems\u001b[0m\u001b[0;34m)\u001b[0m\u001b[0;34m)\u001b[0m\u001b[0;34m[\u001b[0m\u001b[0misna\u001b[0m\u001b[0;34m(\u001b[0m\u001b[0mself\u001b[0m\u001b[0;34m.\u001b[0m\u001b[0mitems\u001b[0m\u001b[0;34m)\u001b[0m\u001b[0;34m]\u001b[0m\u001b[0;34m\u001b[0m\u001b[0m\n",
      "\u001b[0;32m~/projects/LC_data/.env/lib/python3.5/site-packages/pandas/core/indexes/base.py\u001b[0m in \u001b[0;36mget_loc\u001b[0;34m(self, key, method, tolerance)\u001b[0m\n\u001b[1;32m   2522\u001b[0m                 \u001b[0;32mreturn\u001b[0m \u001b[0mself\u001b[0m\u001b[0;34m.\u001b[0m\u001b[0m_engine\u001b[0m\u001b[0;34m.\u001b[0m\u001b[0mget_loc\u001b[0m\u001b[0;34m(\u001b[0m\u001b[0mkey\u001b[0m\u001b[0;34m)\u001b[0m\u001b[0;34m\u001b[0m\u001b[0m\n\u001b[1;32m   2523\u001b[0m             \u001b[0;32mexcept\u001b[0m \u001b[0mKeyError\u001b[0m\u001b[0;34m:\u001b[0m\u001b[0;34m\u001b[0m\u001b[0m\n\u001b[0;32m-> 2524\u001b[0;31m                 \u001b[0;32mreturn\u001b[0m \u001b[0mself\u001b[0m\u001b[0;34m.\u001b[0m\u001b[0m_engine\u001b[0m\u001b[0;34m.\u001b[0m\u001b[0mget_loc\u001b[0m\u001b[0;34m(\u001b[0m\u001b[0mself\u001b[0m\u001b[0;34m.\u001b[0m\u001b[0m_maybe_cast_indexer\u001b[0m\u001b[0;34m(\u001b[0m\u001b[0mkey\u001b[0m\u001b[0;34m)\u001b[0m\u001b[0;34m)\u001b[0m\u001b[0;34m\u001b[0m\u001b[0m\n\u001b[0m\u001b[1;32m   2525\u001b[0m \u001b[0;34m\u001b[0m\u001b[0m\n\u001b[1;32m   2526\u001b[0m         \u001b[0mindexer\u001b[0m \u001b[0;34m=\u001b[0m \u001b[0mself\u001b[0m\u001b[0;34m.\u001b[0m\u001b[0mget_indexer\u001b[0m\u001b[0;34m(\u001b[0m\u001b[0;34m[\u001b[0m\u001b[0mkey\u001b[0m\u001b[0;34m]\u001b[0m\u001b[0;34m,\u001b[0m \u001b[0mmethod\u001b[0m\u001b[0;34m=\u001b[0m\u001b[0mmethod\u001b[0m\u001b[0;34m,\u001b[0m \u001b[0mtolerance\u001b[0m\u001b[0;34m=\u001b[0m\u001b[0mtolerance\u001b[0m\u001b[0;34m)\u001b[0m\u001b[0;34m\u001b[0m\u001b[0m\n",
      "\u001b[0;32mpandas/_libs/index.pyx\u001b[0m in \u001b[0;36mpandas._libs.index.IndexEngine.get_loc\u001b[0;34m()\u001b[0m\n",
      "\u001b[0;32mpandas/_libs/index.pyx\u001b[0m in \u001b[0;36mpandas._libs.index.IndexEngine.get_loc\u001b[0;34m()\u001b[0m\n",
      "\u001b[0;32mpandas/_libs/hashtable_class_helper.pxi\u001b[0m in \u001b[0;36mpandas._libs.hashtable.PyObjectHashTable.get_item\u001b[0;34m()\u001b[0m\n",
      "\u001b[0;32mpandas/_libs/hashtable_class_helper.pxi\u001b[0m in \u001b[0;36mpandas._libs.hashtable.PyObjectHashTable.get_item\u001b[0;34m()\u001b[0m\n",
      "\u001b[0;31mKeyError\u001b[0m: 'earliest_cr_line'"
     ]
    }
   ],
>>>>>>> 1c58213a9d0782a5bfc2ec03fefa778cad8e5851
   "source": [
    "df['earliest_cr_line'].unique()\n",
    "df['earliest_cr_year'] = df['earliest_cr_line'].apply(lambda x: int(x.split('-')[1]))\n",
    "to_drop.append('earliest_cr_line')"
   ]
  },
  {
   "cell_type": "code",
<<<<<<< HEAD
   "execution_count": 16,
=======
   "execution_count": 69,
>>>>>>> 1c58213a9d0782a5bfc2ec03fefa778cad8e5851
   "metadata": {},
   "outputs": [
    {
     "name": "stdout",
     "output_type": "stream",
     "text": [
<<<<<<< HEAD
      "['id', 'member_id', 'url', 'addr_state', 'zip_code', 'desc', 'funded_amnt', 'funded_amnt_inv', 'total_pymnt', 'total_pymnt_inv', 'total_rec_int', 'total_rec_late_fee', 'total_rec_prncp', 'tot_coll_amt', 'total_rev_hi_lim', 'tot_cur_bal', 'mths_since_last_delinq', 'mths_since_last_record', 'mths_since_last_major_derog', 'collections_12_mths_ex_med', 'emp_title', 'last_pymnt_d', 'last_pymnt_amnt', 'recoveries', 'collection_recovery_fee', 'last_credit_pull_d', 'application_type', 'annual_inc_joint', 'dti_joint', 'verification_status_joint', 'open_acc_6m', 'open_il_6m', 'open_il_12m', 'open_il_24m', 'mths_since_rcnt_il', 'total_bal_il', 'il_util', 'open_rv_12m', 'open_rv_24m', 'max_bal_bc', 'all_util', 'inq_fi', 'total_cu_tl', 'inq_last_12m', 'loan_status', 'term', 'emp_length', 'out_prncp', 'out_prncp_inv', 'next_pymnt_d', 'policy_code', 'grade', 'sub_grade', 'purpose', 'title', 'verification_status', 'initial_list_status', 'home_ownership', 'pymnt_plan', 'issue_d', 'earliest_cr_line']\n"
=======
      "['id', 'member_id', 'url', 'addr_state', 'zip_code', 'desc', 'funded_amnt', 'funded_amnt_inv', 'total_pymnt', 'total_pymnt_inv', 'total_rec_int', 'total_rec_late_fee', 'total_rec_prncp', 'tot_coll_amt', 'total_rev_hi_lim', 'tot_cur_bal', 'mths_since_last_delinq', 'mths_since_last_record', 'mths_since_last_major_derog', 'collections_12_mths_ex_med', 'emp_title', 'last_pymnt_d', 'last_pymnt_amnt', 'recoveries', 'collection_recovery_fee', 'last_credit_pull_d']\n"
>>>>>>> 1c58213a9d0782a5bfc2ec03fefa778cad8e5851
     ]
    }
   ],
   "source": [
    "print(to_drop)\n",
    "df = df.drop(columns = to_drop, errors = 'ignore')\n",
    "df = df.dropna()"
   ]
  },
  {
   "cell_type": "code",
<<<<<<< HEAD
   "execution_count": 17,
=======
   "execution_count": 70,
>>>>>>> 1c58213a9d0782a5bfc2ec03fefa778cad8e5851
   "metadata": {},
   "outputs": [
    {
     "name": "stdout",
     "output_type": "stream",
     "text": [
      "<class 'pandas.core.frame.DataFrame'>\n",
<<<<<<< HEAD
      "Int64Index: 242881 entries, 0 to 887369\n",
      "Data columns (total 45 columns):\n",
      "loan_amnt             242881 non-null float64\n",
      "int_rate              242881 non-null float64\n",
      "installment           242881 non-null float64\n",
      "annual_inc            242881 non-null float64\n",
      "dti                   242881 non-null float64\n",
      "delinq_2yrs           242881 non-null float64\n",
      "inq_last_6mths        242881 non-null float64\n",
      "open_acc              242881 non-null float64\n",
      "pub_rec               242881 non-null float64\n",
      "revol_bal             242881 non-null float64\n",
      "revol_util            242881 non-null float64\n",
      "total_acc             242881 non-null float64\n",
      "acc_now_delinq        242881 non-null float64\n",
      "default               242881 non-null float64\n",
      "long_term             242881 non-null int64\n",
      "emp_year              242881 non-null int64\n",
      "A                     242881 non-null uint8\n",
      "B                     242881 non-null uint8\n",
      "C                     242881 non-null uint8\n",
      "D                     242881 non-null uint8\n",
      "E                     242881 non-null uint8\n",
      "F                     242881 non-null uint8\n",
      "G                     242881 non-null uint8\n",
      "car                   242881 non-null uint8\n",
      "credit_card           242881 non-null uint8\n",
      "debt_consolidation    242881 non-null uint8\n",
      "educational           242881 non-null uint8\n",
      "home_improvement      242881 non-null uint8\n",
      "house                 242881 non-null uint8\n",
      "major_purchase        242881 non-null uint8\n",
      "medical               242881 non-null uint8\n",
      "moving                242881 non-null uint8\n",
      "other                 242881 non-null uint8\n",
      "renewable_energy      242881 non-null uint8\n",
      "small_business        242881 non-null uint8\n",
      "vacation              242881 non-null uint8\n",
      "wedding               242881 non-null uint8\n",
      "Not Verified          242881 non-null uint8\n",
      "Source Verified       242881 non-null uint8\n",
      "Verified              242881 non-null uint8\n",
      "f                     242881 non-null uint8\n",
      "w                     242881 non-null uint8\n",
      "own_home              242881 non-null int64\n",
      "year                  242881 non-null int64\n",
      "earliest_cr_year      242881 non-null int64\n",
      "dtypes: float64(14), int64(5), uint8(26)\n",
      "memory usage: 43.1 MB\n"
=======
      "Int64Index: 62222 entries, 1 to 99998\n",
      "Data columns (total 45 columns):\n",
      "loan_amnt             62222 non-null float64\n",
      "int_rate              62222 non-null float64\n",
      "installment           62222 non-null float64\n",
      "annual_inc            62222 non-null float64\n",
      "dti                   62222 non-null float64\n",
      "delinq_2yrs           62222 non-null float64\n",
      "inq_last_6mths        62222 non-null float64\n",
      "open_acc              62222 non-null float64\n",
      "pub_rec               62222 non-null float64\n",
      "revol_bal             62222 non-null float64\n",
      "revol_util            62222 non-null float64\n",
      "total_acc             62222 non-null float64\n",
      "acc_now_delinq        62222 non-null float64\n",
      "default               62222 non-null float64\n",
      "long_term             62222 non-null int64\n",
      "emp_year              62222 non-null int64\n",
      "A                     62222 non-null uint8\n",
      "B                     62222 non-null uint8\n",
      "C                     62222 non-null uint8\n",
      "D                     62222 non-null uint8\n",
      "E                     62222 non-null uint8\n",
      "F                     62222 non-null uint8\n",
      "G                     62222 non-null uint8\n",
      "car                   62222 non-null uint8\n",
      "credit_card           62222 non-null uint8\n",
      "debt_consolidation    62222 non-null uint8\n",
      "educational           62222 non-null uint8\n",
      "home_improvement      62222 non-null uint8\n",
      "house                 62222 non-null uint8\n",
      "major_purchase        62222 non-null uint8\n",
      "medical               62222 non-null uint8\n",
      "moving                62222 non-null uint8\n",
      "other                 62222 non-null uint8\n",
      "renewable_energy      62222 non-null uint8\n",
      "small_business        62222 non-null uint8\n",
      "vacation              62222 non-null uint8\n",
      "wedding               62222 non-null uint8\n",
      "Not Verified          62222 non-null uint8\n",
      "Source Verified       62222 non-null uint8\n",
      "Verified              62222 non-null uint8\n",
      "f                     62222 non-null uint8\n",
      "w                     62222 non-null uint8\n",
      "own_home              62222 non-null int64\n",
      "year                  62222 non-null int64\n",
      "earliest_cr_year      62222 non-null int64\n",
      "dtypes: float64(14), int64(5), uint8(26)\n",
      "memory usage: 11.0 MB\n"
>>>>>>> 1c58213a9d0782a5bfc2ec03fefa778cad8e5851
     ]
    }
   ],
   "source": [
    "df.info()"
   ]
  },
  {
   "cell_type": "code",
<<<<<<< HEAD
   "execution_count": 18,
=======
   "execution_count": 71,
>>>>>>> 1c58213a9d0782a5bfc2ec03fefa778cad8e5851
   "metadata": {},
   "outputs": [
    {
     "data": {
      "text/plain": [
<<<<<<< HEAD
       "loan_amnt              8143.505032\n",
       "int_rate                  4.403047\n",
       "installment             245.249450\n",
       "annual_inc            59451.821999\n",
       "dti                       7.760533\n",
       "delinq_2yrs               0.742895\n",
       "inq_last_6mths            1.066239\n",
       "open_acc                  4.897581\n",
       "pub_rec                   0.429565\n",
       "revol_bal             18797.855101\n",
       "revol_util               24.781736\n",
       "total_acc                11.742974\n",
       "acc_now_delinq            0.060251\n",
       "default                   0.380586\n",
       "long_term                 0.418245\n",
       "emp_year                  3.620964\n",
       "A                         0.373464\n",
       "B                         0.458650\n",
       "C                         0.437605\n",
       "D                         0.366110\n",
       "E                         0.264722\n",
       "F                         0.171713\n",
       "G                         0.087546\n",
       "car                       0.119091\n",
       "credit_card               0.397844\n",
       "debt_consolidation        0.492046\n",
       "educational               0.035933\n",
       "home_improvement          0.234543\n",
       "house                     0.080645\n",
       "major_purchase            0.155170\n",
       "medical                   0.104424\n",
       "moving                    0.088513\n",
       "other                     0.229354\n",
       "renewable_energy          0.032194\n",
       "small_business            0.136529\n",
       "vacation                  0.077692\n",
       "wedding                   0.088742\n",
       "Not Verified              0.477176\n",
       "Source Verified           0.456511\n",
       "Verified                  0.477997\n",
       "f                         0.448914\n",
       "w                         0.448914\n",
       "own_home                  0.276454\n",
       "year                      1.444231\n",
       "earliest_cr_year          6.763127\n",
       "dtype: float64"
      ]
     },
     "execution_count": 18,
=======
       "loan_amnt               35000.00\n",
       "int_rate                   26.06\n",
       "installment              1408.13\n",
       "annual_inc            6000000.00\n",
       "dti                        34.99\n",
       "delinq_2yrs                18.00\n",
       "inq_last_6mths              8.00\n",
       "open_acc                   49.00\n",
       "pub_rec                     9.00\n",
       "revol_bal             1746716.00\n",
       "revol_util                128.10\n",
       "total_acc                  90.00\n",
       "acc_now_delinq              5.00\n",
       "default                     1.00\n",
       "long_term                   1.00\n",
       "emp_year                   10.00\n",
       "A                           1.00\n",
       "B                           1.00\n",
       "C                           1.00\n",
       "D                           1.00\n",
       "E                           1.00\n",
       "F                           1.00\n",
       "G                           1.00\n",
       "car                         1.00\n",
       "credit_card                 1.00\n",
       "debt_consolidation          1.00\n",
       "educational                 1.00\n",
       "home_improvement            1.00\n",
       "house                       1.00\n",
       "major_purchase              1.00\n",
       "medical                     1.00\n",
       "moving                      1.00\n",
       "other                       1.00\n",
       "renewable_energy            1.00\n",
       "small_business              1.00\n",
       "vacation                    1.00\n",
       "wedding                     1.00\n",
       "Not Verified                1.00\n",
       "Source Verified             1.00\n",
       "Verified                    1.00\n",
       "f                           1.00\n",
       "w                           1.00\n",
       "own_home                    1.00\n",
       "year                     2013.00\n",
       "earliest_cr_year         2010.00\n",
       "dtype: float64"
      ]
     },
     "execution_count": 71,
>>>>>>> 1c58213a9d0782a5bfc2ec03fefa778cad8e5851
     "metadata": {},
     "output_type": "execute_result"
    }
   ],
   "source": [
<<<<<<< HEAD
    "df.std()"
=======
    "df.max()"
>>>>>>> 1c58213a9d0782a5bfc2ec03fefa778cad8e5851
   ]
  },
  {
   "cell_type": "code",
<<<<<<< HEAD
   "execution_count": 19,
   "metadata": {},
   "outputs": [],
   "source": [
    "df.to_csv(\"loan_data_cleaned.csv\", sep='\\t', encoding='utf-8', index=None)"
   ]
  },
  {
   "cell_type": "markdown",
   "metadata": {},
   "source": [
    "<h2>Logistic Regression</h2>"
=======
   "execution_count": 56,
   "metadata": {},
   "outputs": [
    {
     "data": {
      "text/plain": [
       "<matplotlib.axes._subplots.AxesSubplot at 0x7fa183e77dd8>"
      ]
     },
     "execution_count": 56,
     "metadata": {},
     "output_type": "execute_result"
    },
    {
     "data": {
      "image/png": "iVBORw0KGgoAAAANSUhEUgAAAb8AAAFWCAYAAAD5WJM4AAAABHNCSVQICAgIfAhkiAAAAAlwSFlz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\n",
      "text/plain": [
       "<matplotlib.figure.Figure at 0x7fa183e76c18>"
      ]
     },
     "metadata": {},
     "output_type": "display_data"
    }
   ],
   "source": [
    "import seaborn as sns\n",
    "corr = df.corr()\n",
    "sns.heatmap(corr, \n",
    "            xticklabels=corr.columns.values,\n",
    "            yticklabels=corr.columns.values)"
>>>>>>> 1c58213a9d0782a5bfc2ec03fefa778cad8e5851
   ]
  },
  {
   "cell_type": "code",
<<<<<<< HEAD
   "execution_count": 20,
   "metadata": {},
   "outputs": [
    {
     "name": "stderr",
     "output_type": "stream",
     "text": [
      "/home/louis/projects/LC_data/.env/lib/python3.5/site-packages/sklearn/cross_validation.py:41: DeprecationWarning: This module was deprecated in version 0.18 in favor of the model_selection module into which all the refactored classes and functions are moved. Also note that the interface of the new CV iterators are different from that of this module. This module will be removed in 0.20.\n",
      "  \"This module will be removed in 0.20.\", DeprecationWarning)\n"
     ]
    },
    {
     "name": "stdout",
     "output_type": "stream",
     "text": [
      "Accuracy of logistic regression classifier on test set: 0.62\n"
=======
   "execution_count": 76,
   "metadata": {},
   "outputs": [
    {
     "name": "stdout",
     "output_type": "stream",
     "text": [
      "Accuracy of logistic regression classifier on test set: 0.64\n"
>>>>>>> 1c58213a9d0782a5bfc2ec03fefa778cad8e5851
     ]
    }
   ],
   "source": [
    "from sklearn.linear_model import LogisticRegression\n",
    "from sklearn.cross_validation import train_test_split\n",
    "\n",
    "X = df.drop(columns=['default', 'installment'])\n",
    "y = df['default']\n",
    "\n",
    "X_train, X_test, y_train, y_test = train_test_split(X, y, test_size=0.3, random_state=0)\n",
    "weight = y_train*4 + 1 \n",
    "\n",
    "logreg = LogisticRegression()\n",
    "# logreg.fit(X_train, y_train)\n",
    "logreg.fit(X_train, y_train, sample_weight=weight)\n",
    "\n",
    "y_pred = logreg.predict(X_test)\n",
    "print('Accuracy of logistic regression classifier on test set: {:.2f}'.format(logreg.score(X_test, y_test)))"
   ]
  },
  {
   "cell_type": "code",
<<<<<<< HEAD
   "execution_count": 21,
=======
   "execution_count": 96,
>>>>>>> 1c58213a9d0782a5bfc2ec03fefa778cad8e5851
   "metadata": {},
   "outputs": [
    {
     "name": "stdout",
     "output_type": "stream",
     "text": [
<<<<<<< HEAD
      "[[35935 24087]\n",
      " [ 3937  8906]]\n"
=======
      "[[9827 5772]\n",
      " [1013 2055]]\n"
>>>>>>> 1c58213a9d0782a5bfc2ec03fefa778cad8e5851
     ]
    }
   ],
   "source": [
    "from sklearn.metrics import confusion_matrix\n",
    "matrix = confusion_matrix(y_test, y_pred)\n",
    "print(matrix)"
   ]
  },
  {
   "cell_type": "code",
<<<<<<< HEAD
   "execution_count": 22,
   "metadata": {},
   "outputs": [],
   "source": [
    "y_p = logreg.predict_proba(X_test)[:,1] > 0.01"
=======
   "execution_count": 131,
   "metadata": {},
   "outputs": [],
   "source": [
    "y_p = logreg.predict_proba(X_test)[:,1] > 0.3"
>>>>>>> 1c58213a9d0782a5bfc2ec03fefa778cad8e5851
   ]
  },
  {
   "cell_type": "code",
<<<<<<< HEAD
   "execution_count": 23,
=======
   "execution_count": 132,
>>>>>>> 1c58213a9d0782a5bfc2ec03fefa778cad8e5851
   "metadata": {},
   "outputs": [
    {
     "name": "stdout",
     "output_type": "stream",
     "text": [
<<<<<<< HEAD
      "[[   22 60000]\n",
      " [    0 12843]]\n"
=======
      "[[ 3413 12186]\n",
      " [  180  2888]]\n"
>>>>>>> 1c58213a9d0782a5bfc2ec03fefa778cad8e5851
     ]
    }
   ],
   "source": [
    "matrix = confusion_matrix(y_test, y_p)\n",
    "print(matrix)"
   ]
  },
  {
   "cell_type": "code",
<<<<<<< HEAD
   "execution_count": 24,
=======
   "execution_count": 118,
>>>>>>> 1c58213a9d0782a5bfc2ec03fefa778cad8e5851
   "metadata": {},
   "outputs": [
    {
     "data": {
<<<<<<< HEAD
      "image/png": "iVBORw0KGgoAAAANSUhEUgAAAY0AAAEaCAYAAADtxAsqAAAABHNCSVQICAgIfAhkiAAAAAlwSFlz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\nYRiGb/4fTmmSjMg+GHMAAAAASUVORK5CYII=\n",
      "text/plain": [
       "<matplotlib.figure.Figure at 0x7f4c9efce358>"
      ]
     },
     "metadata": {},
     "output_type": "display_data"
    }
   ],
   "source": [
    "from sklearn.metrics import confusion_matrix, roc_curve, roc_auc_score, auc\n",
    "plt.style.use('ggplot')\n",
    "%matplotlib inline\n",
    "\n",
    "fpr, tpr,_=roc_curve(y_test, logreg.predict_proba(X_test)[:,1])\n",
    "roc_auc = auc(fpr, tpr)\n",
    "\n",
    "plt.figure()\n",
    "plt.plot(fpr, tpr, color='darkorange',\n",
    "         lw=2, label='ROC curve (area = %0.2f)' % roc_auc)\n",
    "plt.plot([0, 1], [0, 1], color='navy', lw=2, linestyle='--')\n",
    "plt.xlim([0.0, 1.0])\n",
    "plt.ylim([0.0, 1.05])\n",
    "plt.xlabel('False Positive Rate')\n",
    "plt.ylabel('True Positive Rate')\n",
    "plt.title('ROC Curve')\n",
    "plt.legend(loc=\"lower right\")\n",
    "plt.show()"
   ]
  },
  {
   "cell_type": "code",
   "execution_count": 25,
   "metadata": {},
   "outputs": [
    {
     "data": {
      "text/plain": [
       "<matplotlib.axes._subplots.AxesSubplot at 0x7f4c6a972550>"
      ]
     },
     "execution_count": 25,
=======
      "text/plain": [
       "<matplotlib.axes._subplots.AxesSubplot at 0x7fa183d40f60>"
      ]
     },
     "execution_count": 118,
>>>>>>> 1c58213a9d0782a5bfc2ec03fefa778cad8e5851
     "metadata": {},
     "output_type": "execute_result"
    },
    {
     "data": {
<<<<<<< HEAD
      "image/png": "iVBORw0KGgoAAAANSUhEUgAAAX4AAAD8CAYAAABw1c+bAAAABHNCSVQICAgIfAhkiAAAAAlwSFlz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\n",
      "text/plain": [
       "<matplotlib.figure.Figure at 0x7f4c6a943ef0>"
=======
      "image/png": "iVBORw0KGgoAAAANSUhEUgAAAXcAAAD8CAYAAACMwORRAAAABHNCSVQICAgIfAhkiAAAAAlwSFlz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\nLe5KKWVDWtyVUsqG/hcHIt0czkTjowAAAABJRU5ErkJggg==\n",
      "text/plain": [
       "<matplotlib.figure.Figure at 0x7fa183fcf780>"
>>>>>>> 1c58213a9d0782a5bfc2ec03fefa778cad8e5851
      ]
     },
     "metadata": {},
     "output_type": "display_data"
    }
   ],
   "source": [
<<<<<<< HEAD
    "import seaborn as sns\n",
=======
>>>>>>> 1c58213a9d0782a5bfc2ec03fefa778cad8e5851
    "sns.distplot(logreg.predict_proba(X_test)[:,1])"
   ]
  },
  {
<<<<<<< HEAD
   "cell_type": "markdown",
   "metadata": {},
   "source": [
    "<h2>Profit Prediction</h2>"
=======
   "cell_type": "code",
   "execution_count": null,
   "metadata": {},
   "outputs": [],
   "source": [
    "df.head(5)"
>>>>>>> 1c58213a9d0782a5bfc2ec03fefa778cad8e5851
   ]
  },
  {
   "cell_type": "code",
<<<<<<< HEAD
   "execution_count": 26,
   "metadata": {},
   "outputs": [],
   "source": [
    "def profit_predict(X_test, y_test, y_pred, recovery_rate = 0):\n",
    "    pv = X_test[np.logical_not(y_pred)]['loan_amnt'].sum()\n",
    "    fv = sum(X_test[np.logical_and(np.logical_not(y_p), np.logical_not(y_test))]['loan_amnt'] * \n",
    "                    (X_test[np.logical_and(np.logical_not(y_p), np.logical_not(y_test))]['int_rate'] + 100)/100)\n",
    "    return fv / pv - 1 "
=======
   "execution_count": null,
   "metadata": {},
   "outputs": [],
   "source": [
    "%matplotlib inline\n",
    "import matplotlib.pyplot as plt\n",
    "df[\"loan_amnt\"].plot.density()"
>>>>>>> 1c58213a9d0782a5bfc2ec03fefa778cad8e5851
   ]
  },
  {
   "cell_type": "code",
<<<<<<< HEAD
   "execution_count": 27,
   "metadata": {},
   "outputs": [
    {
     "data": {
      "text/plain": [
       "[<matplotlib.lines.Line2D at 0x7f4c6ee33cf8>]"
      ]
     },
     "execution_count": 27,
     "metadata": {},
     "output_type": "execute_result"
    },
    {
     "data": {
      "image/png": "iVBORw0KGgoAAAANSUhEUgAAAYwAAAD8CAYAAABkbJM/AAAABHNCSVQICAgIfAhkiAAAAAlwSFlz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\nSUVORK5CYII=\n",
      "text/plain": [
       "<matplotlib.figure.Figure at 0x7f4c691988d0>"
      ]
     },
     "metadata": {},
     "output_type": "display_data"
    }
   ],
   "source": [
    "import numpy as np\n",
    "profit = []\n",
    "for i in np.arange(0, 1, 0.01):\n",
    "    y_p = logreg.predict_proba(X_test)[:,1] > i\n",
    "#     print(i, profit_predict(X_test, y_test, y_p))\n",
    "    profit.append(profit_predict(X_test, y_test, y_p))\n",
    "plt.plot(profit)"
   ]
  },
  {
   "cell_type": "markdown",
   "metadata": {},
   "source": [
    "<h2>Heat Map</h2>"
=======
   "execution_count": null,
   "metadata": {},
   "outputs": [],
   "source": [
    "df.groupby(\"grade\").size().plot.bar()"
   ]
  },
  {
   "cell_type": "code",
   "execution_count": null,
   "metadata": {},
   "outputs": [],
   "source": [
    "df.groupby(\"grade\")[\"int_rate\"].mean()"
   ]
  },
  {
   "cell_type": "code",
   "execution_count": null,
   "metadata": {},
   "outputs": [],
   "source": [
    "df.groupby(\"sub_grade\")[\"int_rate\"].mean().plot.bar()"
   ]
  },
  {
   "cell_type": "code",
   "execution_count": null,
   "metadata": {},
   "outputs": [],
   "source": [
    "df.groupby(\"emp_length\")[\"id\"].count().plot.bar()"
>>>>>>> 1c58213a9d0782a5bfc2ec03fefa778cad8e5851
   ]
  },
  {
   "cell_type": "code",
   "execution_count": null,
   "metadata": {},
   "outputs": [],
   "source": [
    "def get_loc(zip_code):\n",
    "    import zipcode\n",
    "    short_code = zip_code.replace('x', '')\n",
    "    l = zipcode.islike(short_code)\n",
    "    if l:\n",
    "        location = l[0]\n",
    "        return (location.lon, location.lat)\n",
    "    else:\n",
    "        return (None, None)\n",
    "\n",
    "from tqdm import tqdm\n",
    "tqdm.pandas(desc=\"Pandas progress\")\n",
    "df[\"lon\"] = df[\"zip_code\"].progress_apply(lambda x: get_loc(x)[0])\n",
    "df[\"lat\"] = df[\"zip_code\"].progress_apply(lambda x: get_loc(x)[1])\n",
    "\n",
    "import gmplot\n",
    "df2 = df[df[\"lon\"].notnull()]\n",
    "gmap = gmplot.GoogleMapPlotter.from_geocode(\"The United State\",4)\n",
    "gmap.heatmap(df2['lat'], df2['lon'])\n",
    "gmap.draw('heat_map.html')"
   ]
  },
  {
   "cell_type": "code",
   "execution_count": null,
   "metadata": {},
   "outputs": [],
   "source": [
    "df.groupby(\"loan_status\").size().plot.bar()"
   ]
  },
  {
   "cell_type": "code",
   "execution_count": null,
   "metadata": {},
   "outputs": [],
   "source": [
<<<<<<< HEAD
=======
    "df[\"loan_status\"].unique()"
   ]
  },
  {
   "cell_type": "markdown",
   "metadata": {},
   "source": [
    "https://www.dataquest.io/blog/machine-learning-preparing-data/"
   ]
  },
  {
   "cell_type": "code",
   "execution_count": null,
   "metadata": {},
   "outputs": [],
   "source": [
>>>>>>> 1c58213a9d0782a5bfc2ec03fefa778cad8e5851
    "df[\"annual_inc\"].plot.density(logx = True)"
   ]
  },
  {
   "cell_type": "code",
   "execution_count": null,
   "metadata": {},
   "outputs": [],
   "source": [
    "df[\"annual_inc\"].describe()"
   ]
  },
  {
   "cell_type": "code",
   "execution_count": null,
   "metadata": {},
   "outputs": [],
   "source": [
    "df.iloc[3]"
   ]
  },
  {
   "cell_type": "code",
   "execution_count": null,
   "metadata": {},
   "outputs": [],
   "source": [
    "df.groupby(\"purpose\").size().plot.bar()"
   ]
  },
  {
   "cell_type": "code",
   "execution_count": null,
   "metadata": {},
   "outputs": [],
   "source": [
    "df['dti'].plot.density()"
   ]
  },
  {
   "cell_type": "code",
   "execution_count": null,
   "metadata": {},
   "outputs": [],
   "source": [
    "df[\"verification_status\"].unique()"
   ]
  },
  {
   "cell_type": "code",
   "execution_count": null,
   "metadata": {},
   "outputs": [],
   "source": [
    "df[df[\"annual_inc\"] > 1000000]"
   ]
  },
  {
   "cell_type": "code",
   "execution_count": null,
   "metadata": {},
   "outputs": [],
   "source": [
    "df.groupby(\"loan_status\")[\"int_rate\"].mean().plot.bar()"
   ]
  },
  {
   "cell_type": "code",
   "execution_count": null,
   "metadata": {},
   "outputs": [],
   "source": [
    "df.groupby((\"term\",\"loan_status\")).size().plot.bar()"
   ]
  },
  {
   "cell_type": "code",
   "execution_count": null,
   "metadata": {},
   "outputs": [],
   "source": [
    "df[\"emp_title\"].unique()"
   ]
<<<<<<< HEAD
=======
  },
  {
   "cell_type": "code",
   "execution_count": null,
   "metadata": {},
   "outputs": [],
   "source": []
>>>>>>> 1c58213a9d0782a5bfc2ec03fefa778cad8e5851
  }
 ],
 "metadata": {
  "kernelspec": {
   "display_name": "Python 3",
   "language": "python",
   "name": "python3"
  },
  "language_info": {
   "codemirror_mode": {
    "name": "ipython",
    "version": 3
   },
   "file_extension": ".py",
   "mimetype": "text/x-python",
   "name": "python",
   "nbconvert_exporter": "python",
   "pygments_lexer": "ipython3",
   "version": "3.5.2"
  }
 },
 "nbformat": 4,
 "nbformat_minor": 2
}
